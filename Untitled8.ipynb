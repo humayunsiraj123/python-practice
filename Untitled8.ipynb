{
 "cells": [
  {
   "cell_type": "code",
   "execution_count": 1,
   "metadata": {},
   "outputs": [
    {
     "name": "stdout",
     "output_type": "stream",
     "text": [
      "enter first no4\n",
      "enter first no7\n",
      "11\n"
     ]
    }
   ],
   "source": [
    "# task 1\n",
    "a=int(input(\"enter first no\"))\n",
    "b=int(input(\"enter first no\"))\n",
    "c=a+b\n",
    "print(c)"
   ]
  },
  {
   "cell_type": "code",
   "execution_count": 2,
   "metadata": {},
   "outputs": [
    {
     "name": "stdout",
     "output_type": "stream",
     "text": [
      "enter no for factorial8\n",
      "factortail of 8 is   40320\n"
     ]
    }
   ],
   "source": [
    "#task 2 factorail\n",
    "l=1\n",
    "n= int(input(\"enter no for factorial\"))\n",
    "for i in range(1,n+1):\n",
    "    l=l*i\n",
    "print(f\"factortail of {n} is  \", l )"
   ]
  },
  {
   "cell_type": "code",
   "execution_count": 4,
   "metadata": {},
   "outputs": [
    {
     "name": "stdout",
     "output_type": "stream",
     "text": [
      "enter the amount loan taken 1000\n",
      "enter the rate of loan.25\n",
      "enter time period for wich loan taken  in years2\n",
      "the the amount of 1000.0 with rate intrest of 0.25 for after years  of 2.0 is 500.0\n"
     ]
    }
   ],
   "source": [
    "#task  intrest\n",
    "l=float(input(\"enter the amount loan taken \"))\n",
    "r=float(input(\"enter the rate of loan\"))\n",
    "t=float(input(\"enter time period for wich loan taken  in years\"))\n",
    "I=l*r*t\n",
    "print(f\"the the amount of {l} with rate intrest of {r} for after years  of {t} is {I}\")\n"
   ]
  },
  {
   "cell_type": "code",
   "execution_count": null,
   "metadata": {},
   "outputs": [],
   "source": [
    "#task calculating  intrest\n",
    "l=float(input(\"enter the amount loan taken \"))\n",
    "r=float(input(\"enter the rate of loan\"))\n",
    "t=float(input(\"enter time period for wich loan taken  in years\"))\n",
    "I=l*r*t\n",
    "print(f\"the the amount of {l} with rate intrest of {r} for after years  of {t} is {I}\")\n"
   ]
  },
  {
   "cell_type": "code",
   "execution_count": null,
   "metadata": {},
   "outputs": [],
   "source": [
    "#task armstrong no\n",
    "a=0\n",
    "n=input(\"enter no for armstrong\")\n",
    "for i  in n:\n",
    "    a=int(i)**3 + a\n",
    "if a==int(n):\n",
    "    print(f\" {n } is the armtstrnog no \" )\n",
    "else :\n",
    "    print(f\" {n } is not armtstrnog no \" )\n",
    "        "
   ]
  },
  {
   "cell_type": "code",
   "execution_count": 2,
   "metadata": {},
   "outputs": [
    {
     "name": "stdout",
     "output_type": "stream",
     "text": [
      "enter no for armstrong1676\n",
      " 1676 is not armtstrnog no \n"
     ]
    }
   ],
   "source": [
    "#task armstrong no\n",
    "a=0\n",
    "n=input(\"enter no for armstrong\")\n",
    "for i  in n:\n",
    "    a=int(i)**3 + a\n",
    "if a==int(n):\n",
    "    print(f\" {n } is the armtstrnog no \" )\n",
    "else :\n",
    "    print(f\" {n } is not armtstrnog no \" )\n",
    "        "
   ]
  },
  {
   "cell_type": "code",
   "execution_count": 14,
   "metadata": {},
   "outputs": [
    {
     "name": "stdout",
     "output_type": "stream",
     "text": [
      "enter the range of fibonaci8\n",
      "13\n"
     ]
    }
   ],
   "source": [
    "#task nth memeber or fibonaci \n",
    "f=[0,1]\n",
    "n=int(input('enter the range of fibonaci'))\n",
    "for i in range(2,n):\n",
    "    f.append(f[i-2]+f[i-1])\n",
    "print(f[n-1])"
   ]
  },
  {
   "cell_type": "code",
   "execution_count": 7,
   "metadata": {},
   "outputs": [
    {
     "name": "stdout",
     "output_type": "stream",
     "text": [
      "enter the range of of fibonacci8\n",
      "0\n",
      "1\n",
      "1\n",
      "2\n",
      "3\n",
      "5\n",
      "8\n",
      "13\n"
     ]
    }
   ],
   "source": [
    " # task fibonacii series\n",
    "n1=0\n",
    "n2=1\n",
    "n=0\n",
    "r=int(input(\"enter the range of of fibonacci\"))\n",
    "for i in range(r):\n",
    "    print(n1)\n",
    "    n=n1+n2\n",
    "    n1=n2\n",
    "    n2=n\n",
    "    \n",
    "    "
   ]
  },
  {
   "cell_type": "code",
   "execution_count": 16,
   "metadata": {},
   "outputs": [
    {
     "name": "stdout",
     "output_type": "stream",
     "text": [
      "enter no to check 8\n",
      " the 8 is not prime\n"
     ]
    }
   ],
   "source": [
    "# task prime no checker\n",
    "no=int(input(\"enter no to check \"))\n",
    "if no>1:\n",
    "    for i in range(2,no):\n",
    "        if no%i==0:\n",
    "            print(f\" the {no } is not prime\")\n",
    "            break\n",
    "    else:\n",
    "        print(f' the {no } is prime')\n",
    "else:\n",
    "    print(\"the no is not prime\")\n",
    "    "
   ]
  },
  {
   "cell_type": "code",
   "execution_count": 17,
   "metadata": {},
   "outputs": [
    {
     "name": "stdout",
     "output_type": "stream",
     "text": [
      "enter the starting point0\n",
      "enter the end point99\n",
      "2\n",
      "3\n",
      "5\n",
      "7\n",
      "11\n",
      "13\n",
      "17\n",
      "19\n",
      "23\n",
      "29\n",
      "31\n",
      "37\n",
      "41\n",
      "43\n",
      "47\n",
      "53\n",
      "59\n",
      "61\n",
      "67\n",
      "71\n",
      "73\n",
      "79\n",
      "83\n",
      "89\n",
      "97\n"
     ]
    }
   ],
   "source": [
    "# series of prime no  for interval\n",
    "a=int(input(\"enter the starting point\"))\n",
    "b=int(input(\"enter the end point\"))\n",
    "for i  in range(a,b+1):\n",
    "    if i>=2:\n",
    "        for j in range(2,i):\n",
    "            if i%j==0:\n",
    "                break\n",
    "        else:\n",
    "            print(i)\n",
    "          \n",
    "                \n",
    "        \n",
    "\n"
   ]
  },
  {
   "cell_type": "code",
   "execution_count": 18,
   "metadata": {},
   "outputs": [
    {
     "name": "stdout",
     "output_type": "stream",
     "text": [
      "ENter radius of circle5.6\n",
      "the raduis of circle with radius5.6 is 97.96864\n"
     ]
    }
   ],
   "source": [
    "#task6 area of circle\n",
    "import math\n",
    "\n",
    "r=float(input(('ENter radius of circle')))\n",
    "a=3.124*r**2\n",
    "print(f\"the raduis of circle with radius{r } is {a}\")"
   ]
  },
  {
   "cell_type": "code",
   "execution_count": 19,
   "metadata": {},
   "outputs": [
    {
     "name": "stdout",
     "output_type": "stream",
     "text": [
      "enter the  no the range of natural no6\n",
      "the Sum of square of natural first 6 is 55\n"
     ]
    }
   ],
   "source": [
    "#task 14 sum of squrae of natural number\n",
    "n= int(input(\"enter the  no the range of natural no\"))\n",
    "sum=0\n",
    "for i in range(1,n+1):\n",
    "    sum=sum+i**2\n",
    "print(f\"the Sum of square of natural first {n} is {sum}\")"
   ]
  },
  {
   "cell_type": "code",
   "execution_count": 21,
   "metadata": {},
   "outputs": [
    {
     "name": "stdout",
     "output_type": "stream",
     "text": [
      "enter the  no the range of natural no6\n",
      "the Sum of square of natural first 6 is 441\n"
     ]
    }
   ],
   "source": [
    "#task 15 sum of cubes of natural number\n",
    "n= int(input(\"enter the  no the range of natural no\"))\n",
    "sum=0\n",
    "for i in range(1,n+1):\n",
    "    sum=sum+i**3\n",
    "print(f\"the Sum of square of natural first {n} is {sum}\")    \n",
    "    "
   ]
  },
  {
   "cell_type": "code",
   "execution_count": 22,
   "metadata": {
    "scrolled": true
   },
   "outputs": [
    {
     "name": "stdout",
     "output_type": "stream",
     "text": [
      " enter the chrachter h\n",
      "the ASCII code of h is 104 h\n"
     ]
    }
   ],
   "source": [
    "#task ASCII code\n",
    "n=input(\" enter the chrachter \")\n",
    "v=ord(n)\n",
    "p=chr(v)\n",
    "print(f\"the ASCII code of {n} is {v}\",p)"
   ]
  },
  {
   "cell_type": "code",
   "execution_count": 25,
   "metadata": {},
   "outputs": [
    {
     "name": "stdout",
     "output_type": "stream",
     "text": [
      "enter the amount loan taken 10000\n",
      "enter the rate of loan34\n",
      "enter time period for wich loan taken  in years3\n",
      "the the amount of 10000.0 with rate intrest of 34.0 for after years  of 3.0 has compound intrest of 24061.040000000005\n"
     ]
    }
   ],
   "source": [
    "#task compound intrest\n",
    "#task calculating  intrest\n",
    "l=float(input(\"enter the amount loan taken \"))\n",
    "r=float(input(\"enter the rate of loan\"))\n",
    "t=float(input(\"enter time period for wich loan taken  in years\"))\n",
    "I=l*r*t\n",
    "c=l*  ((1+r/100)**t)\n",
    "\n",
    "print(f\"the the amount of {l} with rate intrest of {r} for after years  of {t} has compound intrest of {c}\")\n"
   ]
  },
  {
   "cell_type": "code",
   "execution_count": null,
   "metadata": {},
   "outputs": [],
   "source": []
  }
 ],
 "metadata": {
  "kernelspec": {
   "display_name": "Python 3",
   "language": "python",
   "name": "python3"
  },
  "language_info": {
   "codemirror_mode": {
    "name": "ipython",
    "version": 3
   },
   "file_extension": ".py",
   "mimetype": "text/x-python",
   "name": "python",
   "nbconvert_exporter": "python",
   "pygments_lexer": "ipython3",
   "version": "3.8.3"
  }
 },
 "nbformat": 4,
 "nbformat_minor": 4
}
