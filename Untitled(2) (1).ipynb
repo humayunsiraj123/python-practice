{
 "cells": [
  {
   "cell_type": "code",
   "execution_count": 4,
   "metadata": {},
   "outputs": [
    {
     "name": "stdout",
     "output_type": "stream",
     "text": [
      "['JS', 'KD', 'JH', 'AS', 'QS', 'AD', 'JC', 'AC', 'AH', 'JD', 'QC', 'KC', 'KS', 'KH', 'QH', 'QD']\n",
      "player 1\n",
      " ['JS', 'KD', 'JH', 'AS'] \n",
      " Player 2\n",
      " ['AS', 'AS', 'AS', 'AS'] \n",
      " player 3 \n",
      " ['AS', 'AS', 'AS', 'AS'] \n",
      " player 4 \n",
      " ['AS', 'AS', 'AS', 'AS']\n"
     ]
    }
   ],
   "source": [
    "import random\n",
    "decks=['AD','KD','QD',\"JD\",'AH','KH','QH','JH','AC','KC','JC','QC','AS','KS','QS','JS']\n",
    "p1=[]\n",
    "p2=[]\n",
    "p3=[]\n",
    "p4=[]\n",
    "random.shuffle(decks)\n",
    "print(decks)\n",
    "for i in range(0,4):\n",
    "    p1.append(decks[i])\n",
    "for j in range(4,8):\n",
    "    p2.append(decks[i])\n",
    "for k in range(8,12):\n",
    "    p3.append(decks[i])\n",
    "for l in range(12,16):\n",
    "    p4.append(decks[i])\n",
    "print(\"player 1\\n\",p1,\"\\n Player 2\\n\",p2,\"\\n player 3 \\n\",p3,\"\\n player 4 \\n\",p4)    \n",
    "    \n",
    "    "
   ]
  },
  {
   "cell_type": "code",
   "execution_count": 2,
   "metadata": {},
   "outputs": [
    {
     "name": "stdout",
     "output_type": "stream",
     "text": [
      "[2, 3]\n",
      "[1, 2, 3]\n",
      "[4, 5, 6, 7, 8, 9]\n",
      "[1, 2, 3, 4, 5, 6, 7, 8, 9]\n",
      "[9, 8, 7, 6, 5, 4, 3, 2, 1]\n"
     ]
    }
   ],
   "source": [
    "#task 2\n",
    "nlist=[1,2,3,4,5,6,7,8,9]\n",
    "print(nlist[1:3])\n",
    "print(nlist[:3])\n",
    "print(nlist[3:])\n",
    "print(nlist[ :])\n",
    "print(nlist[::-1])\n"
   ]
  },
  {
   "cell_type": "code",
   "execution_count": 5,
   "metadata": {},
   "outputs": [
    {
     "name": "stdout",
     "output_type": "stream",
     "text": [
      "[1, 3, 5, 7, 9, 11, 13, 15, 17, 19]\n"
     ]
    }
   ],
   "source": [
    "odd=[i for i in range(20) if i%2==1 ]\n",
    "print(odd)"
   ]
  },
  {
   "cell_type": "code",
   "execution_count": 4,
   "metadata": {},
   "outputs": [
    {
     "name": "stdout",
     "output_type": "stream",
     "text": [
      "[32, 64, 128, 256, 512, 1024, 2048, 4096, 8192, 16384, 32768, 65536, 131072, 262144, 524288]\n"
     ]
    }
   ],
   "source": [
    "squre=[2**x for x in range(20) if x>=5 ]\n",
    "print(squre)\n"
   ]
  },
  {
   "cell_type": "code",
   "execution_count": 6,
   "metadata": {},
   "outputs": [
    {
     "name": "stdout",
     "output_type": "stream",
     "text": [
      "{'name': 'Humayu', 'age': 20, 'batch': 'junior'}\n"
     ]
    }
   ],
   "source": [
    "mydetails={\"name\":\"Humayu\",\"age\":20,\"batch\":\"junior\"} \n",
    "print(mydetails)\n"
   ]
  },
  {
   "cell_type": "code",
   "execution_count": 6,
   "metadata": {},
   "outputs": [
    {
     "name": "stdout",
     "output_type": "stream",
     "text": [
      "name\n",
      "age\n",
      "batch\n",
      "Humayu\n",
      "20\n",
      "junior\n",
      "name\n",
      "age\n",
      "batch\n",
      "Humayu\n",
      "20\n",
      "junior\n",
      "('name', 'Humayu')\n",
      "('age', 20)\n",
      "('batch', 'junior')\n"
     ]
    }
   ],
   "source": [
    "for i in mydetails:\n",
    "    print(i)\n",
    "for i in mydetails:\n",
    "    print(mydetails[i])\n",
    "for i in mydetails.keys():\n",
    "    print(i) \n",
    "for i in mydetails.values():\n",
    "    print(i)\n",
    "for i in mydetails.items():\n",
    "    print(i)    "
   ]
  },
  {
   "cell_type": "code",
   "execution_count": 7,
   "metadata": {},
   "outputs": [
    {
     "name": "stdout",
     "output_type": "stream",
     "text": [
      "{'name': 'Humayu', 'age': 20, 'batch': 'junior', 'gruadute': 'not'}\n"
     ]
    }
   ],
   "source": [
    "mydetails[\"gruadute\"]= \"not\"\n",
    "print(mydetails)"
   ]
  },
  {
   "cell_type": "code",
   "execution_count": 15,
   "metadata": {},
   "outputs": [
    {
     "ename": "SyntaxError",
     "evalue": "keyword can't be an expression (<ipython-input-15-99904a75f8e0>, line 2)",
     "output_type": "error",
     "traceback": [
      "\u001b[0;36m  File \u001b[0;32m\"<ipython-input-15-99904a75f8e0>\"\u001b[0;36m, line \u001b[0;32m2\u001b[0m\n\u001b[0;31m    new=dict(1 = \"hello\",2 = \" how are u\",3 = \" i am fine\",4 = \" bye\")\u001b[0m\n\u001b[0m            ^\u001b[0m\n\u001b[0;31mSyntaxError\u001b[0m\u001b[0;31m:\u001b[0m keyword can't be an expression\n"
     ]
    }
   ],
   "source": [
    "import json\n",
    "new=dict(1 = \"hello\",2 = \" how are u\",3 = \" i am fine\",4 = \" bye\")\n",
    "print(new)\n",
    "new1=json.dumps(mydetails)"
   ]
  },
  {
   "cell_type": "code",
   "execution_count": 7,
   "metadata": {},
   "outputs": [
    {
     "name": "stdout",
     "output_type": "stream",
     "text": [
      "{\"name\": \"Humayu\", \"age\": 20, \"batch\": \"junior\"}\n"
     ]
    }
   ],
   "source": [
    "import json\n",
    "new1=json.dumps(mydetails)\n",
    "print(new1)"
   ]
  },
  {
   "cell_type": "code",
   "execution_count": 8,
   "metadata": {},
   "outputs": [
    {
     "data": {
      "text/plain": [
       "'Humayu'"
      ]
     },
     "execution_count": 8,
     "metadata": {},
     "output_type": "execute_result"
    }
   ],
   "source": [
    "mydetails.pop(\"name\")"
   ]
  },
  {
   "cell_type": "code",
   "execution_count": 9,
   "metadata": {},
   "outputs": [
    {
     "data": {
      "text/plain": [
       "{'age': 20, 'batch': 'junior'}"
      ]
     },
     "execution_count": 9,
     "metadata": {},
     "output_type": "execute_result"
    }
   ],
   "source": [
    "mydetails"
   ]
  },
  {
   "cell_type": "code",
   "execution_count": 10,
   "metadata": {},
   "outputs": [
    {
     "name": "stdout",
     "output_type": "stream",
     "text": [
      "[2, 4, 5, 7, 8, 9, 0]\n",
      "[23, 54, 12]\n",
      "[2, 4, 5, 7, 8, 9, 0, 23, 54, 12]\n"
     ]
    }
   ],
   "source": [
    "a=[2,4,5,7,8,9,0]\n",
    "b=[23,54,12,]\n",
    "c=a+b\n",
    "print(a)\n",
    "print(b)\n",
    "print(c)"
   ]
  },
  {
   "cell_type": "code",
   "execution_count": 11,
   "metadata": {},
   "outputs": [
    {
     "data": {
      "text/plain": [
       "{'a': 100, 'b': 200, 'c': 300, 'd': 50, 'f': 200}"
      ]
     },
     "execution_count": 11,
     "metadata": {},
     "output_type": "execute_result"
    }
   ],
   "source": [
    "a={\"a\":100,\"b\":200,\"c\":300,\"d\":400}\n",
    "b={\"d\":50,\"f\":200}\n",
    "c=b.copy()\n",
    "a.update(b)\n",
    "a"
   ]
  },
  {
   "cell_type": "code",
   "execution_count": 13,
   "metadata": {},
   "outputs": [
    {
     "name": "stdout",
     "output_type": "stream",
     "text": [
      "Herbivoruos EATS\n",
      " ['carrot', 'pulses', 'vegetable', ' milk', ' wheat', 'corn', 'eggs']\n",
      "Carnivorous  EATS\n",
      " ['chicken', 'meat', 'mutton', 'fish']\n",
      "Omnivorous EATS \n",
      " ['chicken', 'carrot', 'pulses', 'meat', 'vegetable', ' milk', 'mutton', 'fish', ' wheat', 'corn', 'eggs']\n"
     ]
    }
   ],
   "source": [
    "food=[\"chicken\",\"carrot\",\"pulses\",\"meat\",\"vegetable\",\" milk\",\"mutton\",\"fish\",\" wheat\",\"corn\",\"eggs\"]\n",
    "omni=[]\n",
    "carni=[]\n",
    "herbi=[]\n",
    "for i in food:\n",
    "    if (i==\"chicken\"or i==\"meat\" or i==\"mutton\" or i==\"fish\" or i== \"milk\"):\n",
    "        carni.append(i)\n",
    "    else:\n",
    "        herbi.append(i)\n",
    "    omni.append(i)\n",
    "print(\"Herbivoruos EATS\\n\",herbi)\n",
    "print(\"Carnivorous  EATS\\n\",carni)\n",
    "print(\"Omnivorous EATS \\n\",omni)"
   ]
  },
  {
   "cell_type": "code",
   "execution_count": 1,
   "metadata": {},
   "outputs": [
    {
     "name": "stdout",
     "output_type": "stream",
     "text": [
      "enter no 5\n",
      "enter no 4\n",
      "enter no 7\n",
      "enter no 34\n",
      "enter no 64\n",
      "enter no 34\n",
      "enter no 6\n",
      "enter no 5\n",
      "enter no 5\n",
      "enter no 43\n",
      "enter no 62\n",
      "enter no 34\n",
      "enter no 23\n",
      "enter no 5\n",
      "enter no 23\n",
      "354\n",
      "64\n",
      "4\n",
      "5\n",
      "{5: 4, 4: 1, 7: 1, 34: 3, 64: 1, 6: 1, 43: 1, 62: 1, 23: 2}\n",
      "Odd no List [5, 7, 5, 5, 43, 23, 5, 23]\n",
      "Even no List [4, 34, 64, 34, 6, 62, 34]\n"
     ]
    }
   ],
   "source": [
    "import statistics\n",
    "sum=0\n",
    "a=[int(input(\"enter no \")) for i in range(15) ]\n",
    "for i in a:\n",
    "    sum=sum+i\n",
    "print(sum)    \n",
    "print(max(a))\n",
    "print(min(a))\n",
    "print(statistics.mode(a))\n",
    "occurence={}\n",
    "for i in a:\n",
    "    occurence[i]=a.count(i)\n",
    "print(occurence)\n",
    "odd=[x for x in a if x%2==1 ]\n",
    "even=[x for x in a if x%2==0]\n",
    "print(\"Odd no List\",odd)\n",
    "print(\"Even no List\",even)\n"
   ]
  },
  {
   "cell_type": "markdown",
   "metadata": {},
   "source": []
  },
  {
   "cell_type": "code",
   "execution_count": 2,
   "metadata": {},
   "outputs": [
    {
     "data": {
      "text/plain": [
       "[5, 4, 7, 34, 64, 34, 6, 5, 5, 43, 62, 34, 23, 5, 23]"
      ]
     },
     "execution_count": 2,
     "metadata": {},
     "output_type": "execute_result"
    }
   ],
   "source": [
    "a"
   ]
  },
  {
   "cell_type": "code",
   "execution_count": 4,
   "metadata": {},
   "outputs": [
    {
     "name": "stdout",
     "output_type": "stream",
     "text": [
      "64\n"
     ]
    }
   ],
   "source": [
    "print(max(a))"
   ]
  },
  {
   "cell_type": "code",
   "execution_count": 5,
   "metadata": {},
   "outputs": [
    {
     "name": "stdout",
     "output_type": "stream",
     "text": [
      "1\n"
     ]
    }
   ],
   "source": [
    "import random\n",
    "a=random.randint(1,6)\n",
    "print(a)"
   ]
  },
  {
   "cell_type": "code",
   "execution_count": 9,
   "metadata": {},
   "outputs": [
    {
     "name": "stdout",
     "output_type": "stream",
     "text": [
      "enter no range5\n",
      "[1, 1, 6, 3, 5]\n",
      "[5, 4, 1, 5, 5]\n",
      "[1, 5]\n"
     ]
    }
   ],
   "source": [
    "import random\n",
    "n= int(input('enter no range'))\n",
    "l1=[]\n",
    "for i in range (n):\n",
    "    l1.append(random.randint(1,n+1))\n",
    "print(l1)    \n",
    "l2=[]\n",
    "for i in range (n):\n",
    "    l2.append(random.randint(1,n+1))\n",
    "print(l2)\n",
    "l3=[]\n",
    "for i in range(n):\n",
    "    if l1[i] in l2:\n",
    "        l3.append(l1[i])\n",
    "print(list(set(l3)))        \n",
    "        "
   ]
  },
  {
   "cell_type": "code",
   "execution_count": null,
   "metadata": {},
   "outputs": [],
   "source": []
  }
 ],
 "metadata": {
  "kernelspec": {
   "display_name": "Python 3",
   "language": "python",
   "name": "python3"
  },
  "language_info": {
   "codemirror_mode": {
    "name": "ipython",
    "version": 3
   },
   "file_extension": ".py",
   "mimetype": "text/x-python",
   "name": "python",
   "nbconvert_exporter": "python",
   "pygments_lexer": "ipython3",
   "version": "3.8.3"
  }
 },
 "nbformat": 4,
 "nbformat_minor": 4
}
