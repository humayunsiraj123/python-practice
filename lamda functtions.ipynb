{
 "cells": [
  {
   "cell_type": "markdown",
   "metadata": {},
   "source": [
    "# IOT SECTION C\n",
    "# Humayun Siraj\n",
    "# 25-NOV-2020"
   ]
  },
  {
   "cell_type": "code",
   "execution_count": 1,
   "metadata": {},
   "outputs": [
    {
     "name": "stdout",
     "output_type": "stream",
     "text": [
      "hello\n"
     ]
    }
   ],
   "source": [
    "# lambda basic\n",
    "greet=lambda :\"hello\"\n",
    "print(greet())"
   ]
  },
  {
   "cell_type": "code",
   "execution_count": 2,
   "metadata": {},
   "outputs": [
    {
     "name": "stdout",
     "output_type": "stream",
     "text": [
      "the result of linear Eqaution is  78\n"
     ]
    }
   ],
   "source": [
    "# lambda linear equation\n",
    "linear=lambda x,y,z:2*x+2*y+8*z\n",
    "print(\"the result of linear Eqaution is \",linear(2,5,8))"
   ]
  },
  {
   "cell_type": "code",
   "execution_count": 3,
   "metadata": {},
   "outputs": [
    {
     "name": "stdout",
     "output_type": "stream",
     "text": [
      "[7, 7, 43, 23]\n",
      "[2, 4, 2, 14, 12, 44]\n"
     ]
    }
   ],
   "source": [
    "# lambda function with Filters\n",
    "x=[2,4,7,2,7,14,12,43,23,44]\n",
    "odd=list((filter(lambda a:a%2==0,x)))\n",
    "even=list((filter(lambda a:a%2==1,x)))\n",
    "\n",
    "print(even)\n",
    "print(odd)"
   ]
  },
  {
   "cell_type": "code",
   "execution_count": 5,
   "metadata": {},
   "outputs": [
    {
     "name": "stdout",
     "output_type": "stream",
     "text": [
      "[17, 96, 90, 12, 60, 94, 60, 99, 33]\n",
      "[4913, 884736, 729000, 1728, 216000, 830584, 216000, 970299, 35937]\n"
     ]
    }
   ],
   "source": [
    "#lmabda function with MAP\n",
    "from random import *\n",
    "x=[randint(1,99) for i in range(9) ]\n",
    "def solver(n):\n",
    "    return n**3\n",
    "a=list(map(solver,x))\n",
    "print(x)\n",
    "print(a)"
   ]
  },
  {
   "cell_type": "code",
   "execution_count": 6,
   "metadata": {},
   "outputs": [],
   "source": [
    "import tkinter as tk\n",
    "gui=tk.Tk()\n",
    "gui.title(\"MY GUI\")\n",
    "gui.geometry(\"400x200+50+300\")\n",
    "gui.mainloop()\n"
   ]
  },
  {
   "cell_type": "code",
   "execution_count": 7,
   "metadata": {},
   "outputs": [
    {
     "name": "stdout",
     "output_type": "stream",
     "text": [
      "[625, 64, 19683, 279936, 1000000, 81, 10, 10000000000, 1, 32768]\n"
     ]
    }
   ],
   "source": [
    "#lmbda function MAP\n",
    "x=[randint(1,10) for i in  range(10)]\n",
    "\n",
    "y=[randint(1,10) for i in  range(10)]\n",
    "z=list(map(lambda a,b: a**b,x,y))\n",
    "print(z)"
   ]
  },
  {
   "cell_type": "code",
   "execution_count": 12,
   "metadata": {},
   "outputs": [],
   "source": [
    "def pascal(n):\n",
    "    a=[1]\n",
    "    b=[0]\n",
    "    for i in range(n):\n",
    "        print(a)\n",
    "        a=[l+r for l,r in zip(a+b,b+a)]"
   ]
  },
  {
   "cell_type": "code",
   "execution_count": 13,
   "metadata": {},
   "outputs": [
    {
     "name": "stdout",
     "output_type": "stream",
     "text": [
      "[1]\n",
      "[1, 1]\n",
      "[1, 2, 1]\n",
      "[1, 3, 3, 1]\n",
      "[1, 4, 6, 4, 1]\n",
      "[1, 5, 10, 10, 5, 1]\n"
     ]
    }
   ],
   "source": [
    "pascal(6)"
   ]
  },
  {
   "cell_type": "code",
   "execution_count": null,
   "metadata": {},
   "outputs": [],
   "source": []
  }
 ],
 "metadata": {
  "kernelspec": {
   "display_name": "Python 3",
   "language": "python",
   "name": "python3"
  },
  "language_info": {
   "codemirror_mode": {
    "name": "ipython",
    "version": 3
   },
   "file_extension": ".py",
   "mimetype": "text/x-python",
   "name": "python",
   "nbconvert_exporter": "python",
   "pygments_lexer": "ipython3",
   "version": "3.8.3"
  }
 },
 "nbformat": 4,
 "nbformat_minor": 4
}
