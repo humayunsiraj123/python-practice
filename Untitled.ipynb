{
 "cells": [
  {
   "cell_type": "code",
   "execution_count": 1,
   "metadata": {},
   "outputs": [
    {
     "name": "stdout",
     "output_type": "stream",
     "text": [
      "enter which f for temperature in farenheit c for celsius or q for quit :c\n",
      "enter temperature  in farenheit :100\n",
      "37.77777777777778\n",
      "enter which f for temperature in farenheit c for celsius or q for quit :f\n",
      "enter temperature in celsisus :37.77\n",
      "99.986\n",
      "enter which f for temperature in farenheit c for celsius or q for quit :q\n"
     ]
    }
   ],
   "source": [
    "q=' '\n",
    "while q!='q':\n",
    "    q=input(\"enter which f for temperature in farenheit c for celsius or q for quit :\")\n",
    "    \n",
    "    if q=='f':\n",
    "        temp=float(input('enter temperature in celsisus :'))\n",
    "        temp_ferenheit=((temp*(9/5))+32)\n",
    "        print(temp_ferenheit)\n",
    "    elif q=='c':\n",
    "        temp=float(input('enter temperature  in farenheit :'))\n",
    "        temp_celsius=(temp-32)*(5/9)\n",
    "        print(temp_celsius)"
   ]
  },
  {
   "cell_type": "code",
   "execution_count": 7,
   "metadata": {},
   "outputs": [
    {
     "name": "stdout",
     "output_type": "stream",
     "text": [
      "Enter letter or to quit  presse enter a\n",
      "the leter  a is vowel\n",
      "Enter letter or to quit  presse enter b\n",
      "the leter  b is consonant\n",
      "Enter letter or to quit  presse enter \n",
      "exiting \n"
     ]
    }
   ],
   "source": [
    "q=' '\n",
    "while q!=\"\":\n",
    "    q=input('Enter letter or to quit  presse enter ')\n",
    "    \n",
    "    if (q=='a' or q=='e' or q=='i' or q=='o' or q=='u' or q=='A' or q=='E' or q=='O' or q=='I' or q=='U' ):\n",
    "        print(\"the leter \",q, \"is vowel\")\n",
    "    elif q==\"\":\n",
    "        print('exiting ')\n",
    "    else:\n",
    "        print(\"the leter \",q, \"is consonant\")"
   ]
  },
  {
   "cell_type": "code",
   "execution_count": null,
   "metadata": {},
   "outputs": [
    {
     "name": "stdout",
     "output_type": "stream",
     "text": [
      "enter book no from 1 to  15 :5\n",
      "Maths Section\n",
      "enter book no from 1 to  15 :6\n",
      "Physics Section\n",
      "enter book no from 1 to  15 :45\n",
      "enter wronge no of the book\n",
      "enter book no from 1 to  15 :34\n",
      "enter wronge no of the book\n"
     ]
    }
   ],
   "source": [
    "for i in range(1,16):\n",
    "    n=int(input('enter book no from 1 to  15 :'))\n",
    "    if (n<=5):\n",
    "        print(\"Maths Section\")\n",
    "    elif(n>5  and n<=10):\n",
    "        print(\"Physics Section\")\n",
    "        \n",
    "    elif(n>10 and n<=15):\n",
    "        print(\"Chemistry section\")\n",
    "    else:\n",
    "        print('enter wronge no of the book')"
   ]
  },
  {
   "cell_type": "code",
   "execution_count": null,
   "metadata": {},
   "outputs": [],
   "source": [
    "n=6\n",
    "for i in range(n):\n",
    "    for j in range(n+2):\n",
    "        if(i+j==4 or (i>=1 and j-i==3) ):\n",
    "            print('* ',end='')\n",
    "       \n",
    "        else:\n",
    "            print(' ',end='')\n",
    "    print() \n",
    "    "
   ]
  },
  {
   "cell_type": "code",
   "execution_count": null,
   "metadata": {},
   "outputs": [],
   "source": [
    "n=6\n",
    "for i in range(n):\n",
    "    for j in range(n+2):\n",
    "        if(i+j==4 or (i>=1 and j-i==3) ):\n",
    "            print('* ',end='')\n",
    "        elif(i==2 and (j==4 or j==3)):\n",
    "            print('*',end='')\n",
    "        else:\n",
    "            print(' ',end='')\n",
    "    print() \n",
    "    "
   ]
  },
  {
   "cell_type": "code",
   "execution_count": null,
   "metadata": {},
   "outputs": [],
   "source": []
  }
 ],
 "metadata": {
  "kernelspec": {
   "display_name": "Python 3",
   "language": "python",
   "name": "python3"
  },
  "language_info": {
   "codemirror_mode": {
    "name": "ipython",
    "version": 3
   },
   "file_extension": ".py",
   "mimetype": "text/x-python",
   "name": "python",
   "nbconvert_exporter": "python",
   "pygments_lexer": "ipython3",
   "version": "3.6.11"
  }
 },
 "nbformat": 4,
 "nbformat_minor": 4
}
