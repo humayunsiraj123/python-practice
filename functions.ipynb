{
 "cells": [
  {
   "cell_type": "code",
   "execution_count": 1,
   "metadata": {},
   "outputs": [
    {
     "name": "stdout",
     "output_type": "stream",
     "text": [
      "enter the pakistani dishes name keema \n",
      "enter the  price of keema  150\n",
      "enter the pakistani dishes name biryani\n",
      "enter the  price of biryani 200\n",
      "enter the pakistani dishes name pulao\n",
      "enter the  price of pulao 120\n",
      "enter the pakistani dishes name karahi\n",
      "enter the  price of karahi 500\n",
      "enter the pakistani dishes name aloo qeema\n",
      "enter the  price of aloo qeema 500\n",
      "enter the  chiness dishes name chowmein\n",
      "enter the price of chowmein200\n",
      "enter the  chiness dishes name noodles\n",
      "enter the price of noodles150\n",
      "enter the  chiness dishes name spehgati\n",
      "enter the price of spehgati100\n",
      "enter the  chiness dishes name bat soup\n",
      "enter the price of bat soup100\n",
      "enter the  chiness dishes name fried rice\n",
      "enter the price of fried rice100\n"
     ]
    }
   ],
   "source": [
    "\n",
    "pakistani={}\n",
    "for i in range(5):\n",
    "    n=input(\"enter the pakistani dishes name \")\n",
    "    j=int(input(f\"enter the  price of {n} \"))\n",
    "    pakistani.update({n:j})\n",
    "chiness={}\n",
    "for i in range(5):\n",
    "    n=input(\"enter the  chiness dishes name \")\n",
    "    j=int(input(f\"enter the price of {n}\"))\n",
    "    chiness.update({n:j})\n",
    "refreshment={\"Tea\": \"Rs 20\",'Mineral water':\"20\" }    \n",
    "desk_no=[i for i in range(1,11)]   \n",
    "menu={\"paksitaniDishes\":pakistani,\"chinessDishes\":chiness,\"refreshers\":refreshment }"
   ]
  },
  {
   "cell_type": "code",
   "execution_count": null,
   "metadata": {},
   "outputs": [
    {
     "name": "stdout",
     "output_type": "stream",
     "text": [
      "Resturant name is :  FOOd BREAK\n",
      "enter 1 for pakistani food 2 for chiness  and to quit just press enter 1\n",
      "the pakitanis dishesh\n",
      " the food biryani  prince is 200\n",
      " the food korma prince is 100\n",
      " the food karahi prince is 500\n",
      "1  for biryani \n",
      "2  for korma\n",
      "3  for karahi\n",
      "enter the  food you want to buy2\n",
      "['korma'] [100]\n",
      "Resturant name is :  FOOd BREAK\n",
      "enter 1 for pakistani food 2 for chiness  and to quit just press enter 2\n",
      "the chiness DIshes \n",
      " the food chowmein prince is 200\n",
      " the food noodles prince is 100\n",
      " the food chopstick prince is 50\n",
      "1  for chowmein\n",
      "2  for noodles\n",
      "3  for chopstick\n",
      "enter the  food you want to buy2\n",
      "Resturant name is :  FOOd BREAK\n",
      "enter 1 for pakistani food 2 for chiness  and to quit just press enter 1\n",
      "the pakitanis dishesh\n",
      " the food biryani  prince is 200\n",
      " the food korma prince is 100\n",
      " the food karahi prince is 500\n",
      "1  for biryani \n",
      "2  for korma\n",
      "3  for karahi\n",
      "enter the  food you want to buy3\n",
      "['korma', 'noodles', 'karahi'] [100, 100, 500]\n",
      "Resturant name is :  FOOd BREAK\n"
     ]
    }
   ],
   "source": [
    "pakistani={\"biryani \":200,\"korma\":100,\"karahi\":500}\n",
    "chiness={\"chowmein\":200,\"noodles\":100,\"chopstick\":50}\n",
    "menu={\"pakistaniDishe\":pakistani,\"chinessDishe\":chiness}\n",
    "items=[]\n",
    "price=[]\n",
    "res={\"kabab jee\":\"10:00am to 12:00 am\", \"ridan\":\"2:00 pm to 12:00 pm\", \"kfc\":\"10 :00 am to 10:00 pm\",\"usmania\":\"1:00pm to 10:00 pm\", \"food break\":\"2:00 am to 12:00 pm\",\"chin soa\":\"2:00 to 10:00pm\"}\n",
    "mode=\" \"\n",
    "while mode!=\"\":\n",
    "    print(\"Resturant name is :  FOOd BREAK\")\n",
    "    mode=(input(\"enter 1 for pakistani food 2 for chiness  and to quit just press enter \"))\n",
    "    if mode ==\"1\":\n",
    "        print(\"the pakitanis dishesh\")\n",
    "        for i,j in menu[\"pakistaniDishe\"].items():\n",
    "            print(f\" the food {i} prince is {j}\" )\n",
    "        k=1\n",
    "        for i in menu[\"pakistaniDishe\"].keys():\n",
    "        \n",
    "            print(f\"{k}  for {i}\")\n",
    "            k+=1\n",
    "        item=input(\"enter the  food you want to buy\")\n",
    "        a=list(menu[\"pakistaniDishe\"].keys())\n",
    "        b=a[int(item)-1]\n",
    "        c=menu[\"pakistaniDishe\"][b]\n",
    "        price.append(c)\n",
    "        \n",
    "        \n",
    "        items.append(b)\n",
    "        print(items,price)\n",
    "    elif  mode==\"2\":\n",
    "        print(\"the chiness DIshes \")\n",
    "        for i,j in menu[\"chinessDishe\"].items():\n",
    "            print(f\" the food {i} prince is {j}\" )\n",
    "        k=1\n",
    "        for i in menu[\"chinessDishe\"].keys():\n",
    "        \n",
    "            print(f\"{k}  for {i}\")\n",
    "            k+=1\n",
    "        item=input(\"enter the  food you want to buy\")\n",
    "        e=list(menu[\"chinessDishe\"].keys())\n",
    "        d=e[int(item)-1]\n",
    "        items.append(d)\n",
    "        f=menu[\"chinessDishe\"][d]\n",
    "        price.append(f)\n",
    "      \n",
    "     \n"
   ]
  },
  {
   "cell_type": "markdown",
   "metadata": {},
   "source": [
    "Print( \"cashier \")\n",
    "print(\"DESK NO\",)\n",
    "print(\"the selected items \")"
   ]
  },
  {
   "cell_type": "code",
   "execution_count": null,
   "metadata": {},
   "outputs": [],
   "source": [
    "print(\"4\"*4)"
   ]
  },
  {
   "cell_type": "code",
   "execution_count": null,
   "metadata": {},
   "outputs": [],
   "source": []
  }
 ],
 "metadata": {
  "kernelspec": {
   "display_name": "Python 3",
   "language": "python",
   "name": "python3"
  },
  "language_info": {
   "codemirror_mode": {
    "name": "ipython",
    "version": 3
   },
   "file_extension": ".py",
   "mimetype": "text/x-python",
   "name": "python",
   "nbconvert_exporter": "python",
   "pygments_lexer": "ipython3",
   "version": "3.6.11"
  }
 },
 "nbformat": 4,
 "nbformat_minor": 4
}
