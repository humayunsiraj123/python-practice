{
 "cells": [
  {
   "cell_type": "markdown",
   "metadata": {},
   "source": [
    "# IOT SECTION C\n",
    "# LAB TASKS  \n",
    "# HUMAYUN SIRAJ\n",
    "# Lab 12"
   ]
  },
  {
   "cell_type": "code",
   "execution_count": null,
   "metadata": {},
   "outputs": [
    {
     "name": "stdout",
     "output_type": "stream",
     "text": [
      "enter the length4\n",
      "enter the heigh6\n",
      "the area of rectangle is : 24\n",
      "the parameter of the function is: 20\n",
      "enter the length2\n",
      "enter the heigh5\n",
      "the area of rectangle is : 10\n",
      "the parameter of the function is: 14\n"
     ]
    }
   ],
   "source": [
    "#task area of rectangel with parameters\n",
    "def Area(a,b):\n",
    "    a=int(a)\n",
    "    b=int(b)\n",
    "    print(\"the area of rectangle is :\",a*b)\n",
    "    print(\"the parameter of the function is:\",2*a+2*b)\n",
    "while True:\n",
    "    a=input(\"enter the length\")\n",
    "    b=input('enter the heigh')\n",
    "    Area(a,b)"
   ]
  },
  {
   "cell_type": "code",
   "execution_count": 1,
   "metadata": {},
   "outputs": [
    {
     "name": "stdout",
     "output_type": "stream",
     "text": [
      "enter first term a: 2\n",
      "enter  the required term6\n",
      "enter the common diffrence2\n",
      "the 6.0th term  12.0\n",
      "the  sum  of the 6.0 terms of the AP is  42.0\n"
     ]
    }
   ],
   "source": [
    "# task  arthemetic progresession\n",
    "def AP(a,d,n):\n",
    "    t=a+ (n-1)*d\n",
    "    print(f'the {n}th term ',t) \n",
    "def sum_AP(a,d,n):\n",
    "    s=(n/2)*(2*a +(n-1)*d)\n",
    "    print(f\"the  sum  of the {n} terms of the AP is \",s)\n",
    "a=float(input(\"enter first term a: \"))\n",
    "n=float(input(\"enter  the required term\"))\n",
    "d=float((input(\"enter the common diffrence\")))\n",
    "AP(a,d,n)\n",
    "sum_AP(a,d,n)\n",
    "\n",
    "    \n"
   ]
  },
  {
   "cell_type": "code",
   "execution_count": 3,
   "metadata": {},
   "outputs": [
    {
     "name": "stdout",
     "output_type": "stream",
     "text": [
      "enter first term a: 3\n",
      "enter  the required term5\n",
      "enter the common ratio8\n",
      "the  5.0th term of the GP is   12288.0\n",
      "enter first term a: 2\n",
      "enter  the required term4\n",
      "enter the common ratio7\n",
      "the 4.0th term of HP is   0.9285714285714286\n"
     ]
    }
   ],
   "source": [
    "# task  geometric progression\n",
    "def GP(a,r,n):\n",
    "    t=a*r**(n-1)\n",
    "    return t\n",
    "def HP(a,d,n):\n",
    "    t=1/a+ (n-1)*(1/d)\n",
    "    return t\n",
    "\n",
    "a=float(input(\"enter first term a: \"))\n",
    "n=float(input(\"enter  the required term\"))\n",
    "r=float((input(\"enter the common ratio\")))\n",
    "print(f\"the  {n}th term of the GP is  \", GP(a,r,n))\n",
    "a=float(input(\"enter first term a: \"))\n",
    "n=float(input(\"enter  the required term\"))\n",
    "d=float((input(\"enter the common ratio\")))\n",
    "print(f\"the {n}th term of HP is  \",HP(a,d,n))"
   ]
  },
  {
   "cell_type": "code",
   "execution_count": 4,
   "metadata": {},
   "outputs": [
    {
     "name": "stdout",
     "output_type": "stream",
     "text": [
      "hello zain\n",
      "hello ali\n",
      "hello ahmed\n",
      "hello khan\n"
     ]
    }
   ],
   "source": [
    "#task  function with multiple argument\n",
    "def greet(*names):\n",
    "    for i in names:\n",
    "        print('hello',i)\n",
    "greet(\"zain\",\"ali\", \"ahmed\",\"khan\")        "
   ]
  },
  {
   "cell_type": "code",
   "execution_count": 13,
   "metadata": {},
   "outputs": [],
   "source": [
    "#task fibonaci\n",
    "def fibonaci():\n",
    "    n=int(input(\"enter the how many terms to add\"))\n",
    "    a=0\n",
    "    b=1\n",
    "    for i in range(n):\n",
    "        print(a)\n",
    "        j=a+b\n",
    "        a=b\n",
    "        b=j\n",
    "        "
   ]
  },
  {
   "cell_type": "code",
   "execution_count": 15,
   "metadata": {},
   "outputs": [
    {
     "name": "stdout",
     "output_type": "stream",
     "text": [
      "enter the how many terms to add8\n",
      "0\n",
      "1\n",
      "1\n",
      "2\n",
      "3\n",
      "5\n",
      "8\n",
      "13\n"
     ]
    }
   ],
   "source": [
    "fibonaci()"
   ]
  },
  {
   "cell_type": "code",
   "execution_count": 16,
   "metadata": {},
   "outputs": [
    {
     "name": "stdout",
     "output_type": "stream",
     "text": [
      "(1, 2, 3, 45)\n"
     ]
    }
   ],
   "source": [
    "#task function with multiple arguments\n",
    " def work(*args):\n",
    "    print(args)\n",
    "work(1,2,3,45)        "
   ]
  },
  {
   "cell_type": "code",
   "execution_count": 17,
   "metadata": {},
   "outputs": [
    {
     "name": "stdout",
     "output_type": "stream",
     "text": [
      "0\n",
      "12\n"
     ]
    }
   ],
   "source": [
    "#  task  fucntion with one fixed argument \n",
    "def  manp(x,y=0):\n",
    "    return x*y\n",
    "print(manp(4))\n",
    "print((manp(4,3)))\n",
    "\n"
   ]
  },
  {
   "cell_type": "code",
   "execution_count": 1,
   "metadata": {},
   "outputs": [
    {
     "data": {
      "text/plain": [
       "True"
      ]
     },
     "execution_count": 1,
     "metadata": {},
     "output_type": "execute_result"
    }
   ],
   "source": [
    "#task palindrome string fucntions\n",
    "def palindrome(string):\n",
    "    a=string\n",
    "    b=a[::-1]\n",
    "    if a==b:\n",
    "        return True\n",
    "    else :\n",
    "        return False\n",
    "palindrome(\"madam\") \n"
   ]
  },
  {
   "cell_type": "code",
   "execution_count": 2,
   "metadata": {},
   "outputs": [
    {
     "data": {
      "text/plain": [
       "False"
      ]
     },
     "execution_count": 2,
     "metadata": {},
     "output_type": "execute_result"
    }
   ],
   "source": [
    "palindrome(\"ahmed\")"
   ]
  },
  {
   "cell_type": "code",
   "execution_count": 3,
   "metadata": {},
   "outputs": [],
   "source": [
    "def pal(string):\n",
    "    left=0\n",
    "    right=len(string)-1\n",
    "    while right>=left:\n",
    "        if not string[left]==string[right] :\n",
    "            return False\n",
    "        left+=1\n",
    "        right-=1\n",
    "    return True\n",
    "\n",
    "    "
   ]
  },
  {
   "cell_type": "code",
   "execution_count": 4,
   "metadata": {},
   "outputs": [
    {
     "data": {
      "text/plain": [
       "True"
      ]
     },
     "execution_count": 4,
     "metadata": {},
     "output_type": "execute_result"
    }
   ],
   "source": [
    "pal(\"madam\")"
   ]
  },
  {
   "cell_type": "code",
   "execution_count": 5,
   "metadata": {},
   "outputs": [
    {
     "name": "stdout",
     "output_type": "stream",
     "text": [
      "the squre of 1 = 1\n",
      "the squre of 9 = 81\n",
      "the squre of 5 = 25\n",
      "the squre of 6 = 36\n",
      "the squre of 5 = 25\n"
     ]
    }
   ],
   "source": [
    "a=\"19565\"\n",
    "for i in a:\n",
    "    print( f\"the squre of {int(i)} = {pow(int(i),2)}\")"
   ]
  },
  {
   "cell_type": "code",
   "execution_count": 6,
   "metadata": {},
   "outputs": [
    {
     "name": "stdout",
     "output_type": "stream",
     "text": [
      "f(0.00000) = 2.73205\n",
      "f(1.00000) = 2.00000\n",
      "f(1.41421) = 1.68679\n",
      "f(0.41421) = 2.43355\n"
     ]
    }
   ],
   "source": [
    "# f(x) maths fucntions\n",
    "import math\n",
    "def f(x):\n",
    "    return (math.sqrt(x+3)-x + 1)\n",
    "for x in [0,1,math.sqrt(2),math.sqrt(2)-1]:\n",
    "    print(\"f({:.5f}) = {:.5f}\".format(x,f(x)),)"
   ]
  },
  {
   "cell_type": "code",
   "execution_count": null,
   "metadata": {},
   "outputs": [],
   "source": []
  }
 ],
 "metadata": {
  "kernelspec": {
   "display_name": "Python 3",
   "language": "python",
   "name": "python3"
  },
  "language_info": {
   "codemirror_mode": {
    "name": "ipython",
    "version": 3
   },
   "file_extension": ".py",
   "mimetype": "text/x-python",
   "name": "python",
   "nbconvert_exporter": "python",
   "pygments_lexer": "ipython3",
   "version": "3.8.3"
  }
 },
 "nbformat": 4,
 "nbformat_minor": 4
}
