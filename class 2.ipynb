{
 "cells": [
  {
   "cell_type": "markdown",
   "metadata": {},
   "source": [
    "# HUAMYUNS SIRAJ \n",
    "# IOT SECTION C\n",
    "# 16 12 2020"
   ]
  },
  {
   "cell_type": "code",
   "execution_count": 4,
   "metadata": {},
   "outputs": [
    {
     "name": "stdout",
     "output_type": "stream",
     "text": [
      "FEATURE 3\n",
      "FEATURE 1\n",
      "FEATURE 2\n"
     ]
    }
   ],
   "source": [
    "# playing with classess\n",
    "class A:\n",
    "    def feature1(self):\n",
    "        print(\"FEATURE 1\")\n",
    "    def feature2(self):\n",
    "        print(\"FEATURE 2\")\n",
    "class B:\n",
    "    def feature3(self):\n",
    "        print(\"FEATURE 3\")\n",
    "    def feature4(self):\n",
    "        print(\"FEATURE 4\")\n",
    "class C:\n",
    "    def feature5(self):\n",
    "        print(\"FEATURE 5\")\n",
    "    def feature6(self):\n",
    "        print(\"FEATURE 6\")\n",
    "class D(B,A):\n",
    "    pass\n",
    "a=D()\n",
    "a.feature3()\n",
    "a.feature1()\n",
    "a.feature2()\n",
    "    \n",
    "        \n",
    "        "
   ]
  },
  {
   "cell_type": "code",
   "execution_count": 12,
   "metadata": {},
   "outputs": [
    {
     "name": "stdout",
     "output_type": "stream",
     "text": [
      "the area of circle is : 78.55\n"
     ]
    }
   ],
   "source": [
    "# class area of circle\n",
    "class Circle():\n",
    "    def __init__(self,r):\n",
    "        self.r=r\n",
    "    def Area(self):\n",
    "        a=self.r\n",
    "        b=3.142* self.r**2\n",
    "        return b\n",
    "c1=Circle(5)\n",
    "\n",
    "print(\"the area of circle is :\", c1.Area() )"
   ]
  },
  {
   "cell_type": "code",
   "execution_count": 10,
   "metadata": {},
   "outputs": [
    {
     "name": "stdout",
     "output_type": "stream",
     "text": [
      "32\n",
      "24\n"
     ]
    }
   ],
   "source": [
    "# AREA AND PARAMETER OF RECTANGLE\n",
    "class Rect:\n",
    "    def __init__(self,l,b):\n",
    "        self.l=l\n",
    "        self.b=b\n",
    "    def area(self):\n",
    "        return (self.l*self.b)\n",
    "    def parameter(self):\n",
    "        return (2*self.l)+(2*self.b)\n",
    "react1=Rect(4,8)\n",
    "print(react1.area())\n",
    "print(react1.parameter())"
   ]
  },
  {
   "cell_type": "code",
   "execution_count": 20,
   "metadata": {},
   "outputs": [
    {
     "name": "stdout",
     "output_type": "stream",
     "text": [
      "5\n",
      "the area of circle is : 78.55\n"
     ]
    }
   ],
   "source": [
    "# class area of circle\n",
    "class Circle():\n",
    "    def __init__(self):\n",
    "        pass\n",
    "    def Area(self):\n",
    "        a=input()\n",
    "        b=3.142*int(a)**2\n",
    "        return b\n",
    "c1=Circle()\n",
    "\n",
    "print(\"the area of circle is :\", c1.Area() )"
   ]
  },
  {
   "cell_type": "code",
   "execution_count": 33,
   "metadata": {},
   "outputs": [
    {
     "name": "stdout",
     "output_type": "stream",
     "text": [
      "humayun \n",
      "Humayun \n",
      "HUMAYUN \n"
     ]
    }
   ],
   "source": [
    "# calss to convert the case of string\n",
    "class converter():\n",
    "    def __init__(self):\n",
    "        self.str=input()\n",
    "    def Upper(self):\n",
    "        return self.str.upper()\n",
    "    def Title(self):\n",
    "        return self.str.title()\n",
    "a=converter()\n",
    "print(a.Title())\n",
    "print(a.Upper())"
   ]
  },
  {
   "cell_type": "code",
   "execution_count": 35,
   "metadata": {},
   "outputs": [
    {
     "name": "stdout",
     "output_type": "stream",
     "text": [
      " paplet is having gills\n",
      "it can swim in reverse direction\n"
     ]
    }
   ],
   "source": [
    "# concept of inheritance\n",
    "class Fish:\n",
    "    def __init__(self,name,properties=\"gills\",fly=False):\n",
    "        self.name=name\n",
    "        self.properties=properties\n",
    "        self.fly=fly\n",
    "    def combined(self):\n",
    "        return f\" {self.name} is having {self.properties}\"\n",
    "    def swim(self):\n",
    "        return \"it can swim in reverse direction\"\n",
    "class Sea(Fish):\n",
    "    pass\n",
    "c1=Sea(\"paplet\")\n",
    "print(c1.combined())\n",
    "print(c1.swim())"
   ]
  },
  {
   "cell_type": "code",
   "execution_count": 39,
   "metadata": {},
   "outputs": [
    {
     "name": "stdout",
     "output_type": "stream",
     "text": [
      "The car PRIUS model no 2019 is manufactured by City\n",
      "The the odometer reading is 0\n",
      "the Updated odometer reading is 10000\n"
     ]
    }
   ],
   "source": [
    "class Cars:\n",
    "    def __init__(self,name,model,make):\n",
    "        self.name=name\n",
    "        self.model=model\n",
    "        self.make=make\n",
    "        self.odometer=0\n",
    "    def description(self):\n",
    "        print(f\"The car {self.name} model no {self.model} is manufactured by {self.make}\")\n",
    "    def odometerread(self):\n",
    "        print(f\"The the odometer reading is {self.odometer}\")\n",
    "    def updateodo(self,value):\n",
    "        if self.odometer<value:\n",
    "            self.odometer=self.odometer+value\n",
    "            print(f\"the Updated odometer reading is {self.odometer}\")\n",
    "        else:\n",
    "            print(\"cant roll back the odometer\")\n",
    "def Electric(Car):\n",
    "    \n",
    "\n",
    "c1=Cars(\"PRIUS\",2019,\"City\")\n",
    "c1.description()\n",
    "c1.odometerread()\n",
    "c1.updateodo(10000)\n"
   ]
  },
  {
   "cell_type": "code",
   "execution_count": null,
   "metadata": {},
   "outputs": [],
   "source": []
  }
 ],
 "metadata": {
  "kernelspec": {
   "display_name": "Python 3",
   "language": "python",
   "name": "python3"
  },
  "language_info": {
   "codemirror_mode": {
    "name": "ipython",
    "version": 3
   },
   "file_extension": ".py",
   "mimetype": "text/x-python",
   "name": "python",
   "nbconvert_exporter": "python",
   "pygments_lexer": "ipython3",
   "version": "3.8.3"
  }
 },
 "nbformat": 4,
 "nbformat_minor": 4
}
