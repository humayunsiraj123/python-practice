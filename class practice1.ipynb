{
 "cells": [
  {
   "cell_type": "markdown",
   "metadata": {},
   "source": [
    "# IOT SECTION C\n",
    "# 14 12 2020\n",
    "# HUMAYUN SIRAJ\n"
   ]
  },
  {
   "cell_type": "code",
   "execution_count": 23,
   "metadata": {},
   "outputs": [
    {
     "name": "stdout",
     "output_type": "stream",
     "text": [
      "Lambo model 2018 having type hybrid and color Black price is $ 109000\n",
      "vitz model 2019 having type cng and color white price is $ 20000\n"
     ]
    }
   ],
   "source": [
    "# classes\n",
    "class Vehicle:\n",
    "    name=\"\"\n",
    "    model=''\n",
    "    color=''\n",
    "    tipe=''\n",
    "    price=0\n",
    "    def description(self):\n",
    "        print(f\"{self.name} model {self.model} having type {self.tipe} and color {self.color} price is $ {self.price}\")\n",
    "c1=Vehicle()\n",
    "c1.name=\"Lambo\"\n",
    "c1.model=\"2018\"\n",
    "c1.tipe=\"hybrid\"\n",
    "c1.color=\"Black\"\n",
    "c1.price=109000\n",
    "c1.description()\n",
    "c2=Vehicle()\n",
    "c2.name=\"vitz\"\n",
    "c2.model=\"2019\"\n",
    "c2.tipe=\"cng\"\n",
    "c2.color=\"white\"\n",
    "c2.price=20000\n",
    "c2.description()"
   ]
  },
  {
   "cell_type": "code",
   "execution_count": 27,
   "metadata": {},
   "outputs": [
    {
     "name": "stdout",
     "output_type": "stream",
     "text": [
      "THe bread of dog with colour is Black\n"
     ]
    }
   ],
   "source": [
    "# class  \n",
    "class Dog:\n",
    "    animal=\"dog\"\n",
    "    def __init__(self,bread):\n",
    "        self.bread=bread\n",
    "    def setcolour(self,colour):\n",
    "        self.colour=colour\n",
    "    def getcolour(self):\n",
    "        return self.colour\n",
    "s=Dog(\"GERRMAN\")\n",
    "s.setcolour(\"Black\")\n",
    "print(f\"THe bread of dog with colour is {s.getcolour()}\")"
   ]
  },
  {
   "cell_type": "code",
   "execution_count": 29,
   "metadata": {},
   "outputs": [
    {
     "name": "stdout",
     "output_type": "stream",
     "text": [
      " we are working on square with sides 4\n"
     ]
    }
   ],
   "source": [
    "# polygon class\n",
    "class Polygon:\n",
    "    def __init__(self,name,sides):\n",
    "        self.name=name\n",
    "        self.sides=sides\n",
    "    def work(self):\n",
    "        print(f' we are working on {self.name} with sides {self.sides}')\n",
    "a=Polygon(\"square\",4)\n",
    "a.work()"
   ]
  },
  {
   "cell_type": "code",
   "execution_count": 6,
   "metadata": {},
   "outputs": [
    {
     "name": "stdout",
     "output_type": "stream",
     "text": [
      "HUMAYUN SIRAJ\n",
      "HUMAYUNSIRAJ.@gmail.com\n",
      "1000000\n"
     ]
    }
   ],
   "source": [
    "# class \n",
    "class Employee:\n",
    "    def __init__(self,fname,lname,pay):\n",
    "        self.fname=fname\n",
    "        self.lname=lname\n",
    "        self.pay=pay\n",
    "        self.email=fname+lname+\".\"+\"@gmail.com\"\n",
    "    def working(self):\n",
    "        return \"{} {}\".format(self.fname,self.lname)\n",
    "\n",
    "emp1=Employee(\"HUMAYUN\",\"SIRAJ\",1000000)\n",
    "print(emp1.working())\n",
    "print(emp1.email)\n",
    "print(emp1.pay)"
   ]
  },
  {
   "cell_type": "code",
   "execution_count": 9,
   "metadata": {},
   "outputs": [
    {
     "name": "stdout",
     "output_type": "stream",
     "text": [
      "kareem ali roll no is 18020 having email address\n",
      "kareem ali roll no is 18020 having email address\n"
     ]
    }
   ],
   "source": [
    "class Student:\n",
    "    def __init__(self,fname,lname,rollno):\n",
    "        self.fname=fname\n",
    "        self.lname=lname\n",
    "        self.rollno=rollno\n",
    "        self.email=fname+lname+rollno+\"@gmail.com\"\n",
    "    def work(self):\n",
    "        return \"{} {} roll no is {} having email address\".format(self.fname,self.lname,self.rollno,self.email)\n",
    "stud1=Student(\"kareem\",\"ali\",\"18020\")\n",
    "#method 1\n",
    "print(stud1.work())\n",
    "#method 2\n",
    "print(Student.work(stud1))"
   ]
  },
  {
   "cell_type": "code",
   "execution_count": 17,
   "metadata": {},
   "outputs": [
    {
     "name": "stdout",
     "output_type": "stream",
     "text": [
      "20 age is AHMED years\n",
      "20 age is AHMED years\n"
     ]
    }
   ],
   "source": [
    "class Staff:\n",
    "    def __init__(self,age,fname):\n",
    "        self.age=age\n",
    "        self.fname=fname\n",
    "    def work(self):\n",
    "        return \"{} age is {} years\".format(self.fname,self.age)\n",
    "emp1=Staff(\"AHMED\",20)\n",
    "print(emp1.work())\n",
    "print(Staff.work(emp1))    "
   ]
  },
  {
   "cell_type": "code",
   "execution_count": 24,
   "metadata": {},
   "outputs": [
    {
     "name": "stdout",
     "output_type": "stream",
     "text": [
      "The car PRIUS model no 2019 is manufactured by City\n",
      "The the odometer reading is 0\n",
      "cant roll back the odometer\n"
     ]
    }
   ],
   "source": [
    "# calss of car with its attribuutes and inheritance\n",
    "class Cars:\n",
    "    def __init__(self,name,model,make):\n",
    "        self.name=name\n",
    "        self.model=model\n",
    "        self.make=make\n",
    "        self.odometer=0\n",
    "    def description(self):\n",
    "        print(f\"The car {self.name} model no {self.model} is manufactured by {self.make}\")\n",
    "    def odometerread(self):\n",
    "        print(f\"The the odometer reading is {self.odometer}\")\n",
    "    def updateodo(self,value):\n",
    "        if self.odometer>value:\n",
    "            a=self.odometer+value\n",
    "            print(f\"the Updated odometer reading is {a}\")\n",
    "        else:\n",
    "            print(\"cant roll back the odometer\")\n",
    "c1=Cars(\"PRIUS\",2019,\"City\")\n",
    "c1.description()\n",
    "c1.odometerread()\n",
    "c1.updateodo(10000)"
   ]
  },
  {
   "cell_type": "code",
   "execution_count": null,
   "metadata": {},
   "outputs": [],
   "source": []
  }
 ],
 "metadata": {
  "kernelspec": {
   "display_name": "Python 3",
   "language": "python",
   "name": "python3"
  },
  "language_info": {
   "codemirror_mode": {
    "name": "ipython",
    "version": 3
   },
   "file_extension": ".py",
   "mimetype": "text/x-python",
   "name": "python",
   "nbconvert_exporter": "python",
   "pygments_lexer": "ipython3",
   "version": "3.8.3"
  }
 },
 "nbformat": 4,
 "nbformat_minor": 4
}
