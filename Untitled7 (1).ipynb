{
 "cells": [
  {
   "cell_type": "markdown",
   "metadata": {},
   "source": [
    "# PYTHON PRACTICE\n"
   ]
  },
  {
   "cell_type": "code",
   "execution_count": 2,
   "metadata": {},
   "outputs": [
    {
     "name": "stdout",
     "output_type": "stream",
     "text": [
      "2002,2009,2016,2023,2037,2044,2051,2058,2072,2079,2086,2093,2107,2114,2121,2128,2142,2149,2156,2163,2177,2184,2191,2198,2212,2219,2226,2233,2247,2254,2261,2268,2282,2289,2296,2303,2317,2324,2331,2338,2352,2359,2366,2373,2387,2394,2401,2408,2422,2429,2436,2443,2457,2464,2471,2478,2492,2499,2506,2513,2527,2534,2541,2548,2562,2569,2576,2583,2597,2604,2611,2618,2632,2639,2646,2653,2667,2674,2681,2688,2702,2709,2716,2723,2737,2744,2751,2758,2772,2779,2786,2793,2807,2814,2821,2828,2842,2849,2856,2863,2877,2884,2891,2898,2912,2919,2926,2933,2947,2954,2961,2968,2982,2989,2996,3003,3017,3024,3031,3038,3052,3059,3066,3073,3087,3094,3101,3108,3122,3129,3136,3143,3157,3164,3171,3178,3192,3199,"
     ]
    }
   ],
   "source": [
    "#Write a program which will find all such numbers which are divisible by 7 but are not a multiple of 5,\n",
    "#between 2000 and 3200 (both included).\n",
    "#The numbers obtained should be printed in a comma-separated sequence on a single line.\n",
    "for i in range(2000,3201):\n",
    "    if i%7==0 and i%5!=0:\n",
    "        print(i,end=',')\n",
    "    \n",
    "    "
   ]
  },
  {
   "cell_type": "code",
   "execution_count": 5,
   "metadata": {},
   "outputs": [
    {
     "name": "stdout",
     "output_type": "stream",
     "text": [
      "enter no  for factorial5\n",
      "the Factorial of  5 is  120\n"
     ]
    }
   ],
   "source": [
    "'''Write a program which can compute the factorial of a given numbers.\n",
    "The results should be printed in a comma-separated sequence on a single line.\n",
    "Suppose the following input is supplied to the program:\n",
    "8\n",
    "'''\n",
    "l=1\n",
    "n= int(input(\"enter no  for factorial\"))\n",
    "for i in range(1,n+1):\n",
    "       l=l*i\n",
    "print(\"the Factorial of \",n,\"is \",l)       \n"
   ]
  },
  {
   "cell_type": "code",
   "execution_count": 9,
   "metadata": {},
   "outputs": [
    {
     "name": "stdout",
     "output_type": "stream",
     "text": [
      "enter range8\n",
      "{1: 1, 2: 4, 3: 9, 4: 16, 5: 25, 6: 36, 7: 49, 8: 64}\n"
     ]
    }
   ],
   "source": [
    "import random\n",
    "'''Question:\n",
    "With a given integral number n, write a program to generate a dictionary that contains (i, i*i) such that is an integral number between 1 and n (both included). and then the program should print the dictionary.\n",
    "Suppose the following input is supplied to the program:'''\n",
    "n= int(input(\"enter range\"))\n",
    "num={}\n",
    "for i in range(1,n+1):\n",
    "    num[i]=i*i\n",
    "print(num)    "
   ]
  },
  {
   "cell_type": "code",
   "execution_count": 12,
   "metadata": {},
   "outputs": [
    {
     "name": "stdout",
     "output_type": "stream",
     "text": [
      "enter the range6\n",
      "Enter values32\n",
      "Enter values67\n",
      "Enter values55\n",
      "Enter values33\n",
      "Enter values12\n",
      "Enter values98\n",
      "['32', '67', '55', '33', '12', '98']\n",
      "('32', '67', '55', '33', '12', '98')\n"
     ]
    }
   ],
   "source": [
    "'''Question:\n",
    "Write a program which accepts a sequence of comma-separated numbers from console and generate a list and a tuple which contains every number.\n",
    "Suppose the following input is supplied to the program:\n",
    "34,67,55,33,12,98\n",
    "Then, the output should be:\n",
    "['34', '67', '55', '33', '12', '98']\n",
    "('34', '67', '55', '33', '12', '98')\n",
    "'''\n",
    "n=int(input(\"enter the range\"))\n",
    "l=[]\n",
    "for i in range(n):\n",
    "    a=input(\"Enter values\")\n",
    "    l.append(a)\n",
    "print(l)\n",
    "print(tuple(l))"
   ]
  },
  {
   "cell_type": "code",
   "execution_count": 20,
   "metadata": {},
   "outputs": [
    {
     "name": "stdout",
     "output_type": "stream",
     "text": [
      "ente the range of comma sepeareted value5\n",
      "enter value of D100\n",
      "enter value of D150\n",
      "enter value of D180\n",
      "enter value of D210\n",
      "enter value of D240\n",
      "[18, 22, 24, 26, 28]\n"
     ]
    }
   ],
   "source": [
    "'''Question:\n",
    "Write a program that calculates and prints the value according to the given formula:\n",
    "Q = Square root of [(2 * C * D)/H]\n",
    "Following are the fixed values of C and H:\n",
    "C is 50. H is 30.\n",
    "D is the variable whose values should be input to your program in a comma-separated sequence.\n",
    "Example\n",
    "Let us assume the following comma separated input sequence is given to the program:\n",
    "100,150,180\n",
    "The output of the program should be:\n",
    "18,22,24'''\n",
    "import math\n",
    "n=int(input(\"ente the range of comma sepeareted value\"))\n",
    "l=[]\n",
    "c=50\n",
    "h=30\n",
    "for i in range(n):\n",
    "    D=int(input(\"enter value of D\"))\n",
    "    l.append(int(pow(((2*D*c)/h),.5)))\n",
    "print(l)             \n",
    "             \n",
    "    "
   ]
  },
  {
   "cell_type": "code",
   "execution_count": 24,
   "metadata": {},
   "outputs": [
    {
     "name": "stdout",
     "output_type": "stream",
     "text": [
      "enter the ROWs3\n",
      "enter coloumns5\n",
      "[[0, 0, 0, 0, 0], [0, 1, 2, 3, 4], [0, 2, 4, 6, 8]]\n"
     ]
    }
   ],
   "source": [
    "'''Write a program which takes 2 digits, X,Y as input and generates a 2-dimensional array. The element value in the i-th row and j-th column of the array should be i*j.\n",
    "Note: i=0,1.., X-1; j=0,1,¡­Y-1.\n",
    "Example\n",
    "Suppose the following inputs are given to the program:\n",
    "3,5\n",
    "Then, the output of the program should be:\n",
    "[[0, 0, 0, 0, 0], [0, 1, 2, 3, 4], [0, 2, 4, 6, 8]] \n",
    "'''\n",
    "r=int(input(\"enter the ROWs\"))\n",
    "c=int(input(\"enter coloumns\"))\n",
    "matrix=[[i*j  for i  in range(c)]for j in range(r)]\n",
    "print(matrix)"
   ]
  },
  {
   "cell_type": "code",
   "execution_count": 31,
   "metadata": {},
   "outputs": [
    {
     "name": "stdout",
     "output_type": "stream",
     "text": [
      "enter no of word wants to add4\n",
      "enter wordswithout\n",
      "enter wordshello\n",
      "enter wordsbag\n",
      "enter wordsworld\n",
      "['bag', 'hello', 'without', 'world']\n"
     ]
    }
   ],
   "source": [
    "'''Question:\n",
    "Write a program that accepts a comma separated sequence of words as input and prints the words in a comma-separated sequence after sorting them alphabetically.\n",
    "Suppose the following input is supplied to the program:\n",
    "without,hello,bag,world\n",
    "Then, the output should be:\n",
    "bag,hello,without,world'''\n",
    "n=int(input(\"enter no of word wants to add\"))\n",
    "listt=[input(\"enter words\") for i  in range(n)]\n",
    "\n",
    "listt.sort()\n",
    "print(listt)"
   ]
  },
  {
   "cell_type": "code",
   "execution_count": 32,
   "metadata": {},
   "outputs": [
    {
     "name": "stdout",
     "output_type": "stream",
     "text": [
      "enter how many line you wan to enter3\n",
      "enter the lineHello  world\n",
      "enter the linePractice makes perfect \n",
      "enter the linegood bye\n",
      "HELLO  WORLD\n",
      "PRACTICE MAKES PERFECT \n",
      "GOOD BYE\n"
     ]
    }
   ],
   "source": [
    "'''Question£º\n",
    "Write a program that accepts sequence of lines as input and prints the lines after making all characters in the sentence capitalized.\n",
    "Suppose the following input is supplied to the program:\n",
    "Hello world\n",
    "Practice makes perfect\n",
    "Then, the output should be:\n",
    "HELLO WORLD\n",
    "PRACTICE MAKES PERFECT\n",
    "'''\n",
    "n=int(input(\"enter how many line you wan to enter\"))\n",
    "seq=[ input(\"enter the line\").upper() for i in range(n)]\n",
    "for i in seq:\n",
    "    print(i)"
   ]
  },
  {
   "cell_type": "code",
   "execution_count": 2,
   "metadata": {},
   "outputs": [
    {
     "name": "stdout",
     "output_type": "stream",
     "text": [
      "enter how many  words you want to add5\n",
      "enter the linehello\n",
      "enter the lineworld\n",
      "enter the linehello\n",
      "enter the lineuniver\n",
      "enter the linehello\n",
      "hello world hello univer hello "
     ]
    }
   ],
   "source": [
    "'''Question:\n",
    "Write a program that accepts a sequence of whitespace separated words as input and prints the words after removing all duplicate words and sorting them alphanumerically.\n",
    "Suppose the following input is supplied to the program:\n",
    "hello world and practice makes perfect and hello world again\n",
    "Then, the output should be:\n",
    "again and hello makes perfect practice world\n",
    "\n",
    "'''\n",
    "n=int(input(\"enter how many  words you want to add\"))\n",
    "seq=[ input(\"enter the line\") for i in range(n)]\n",
    "set(seq)\n",
    "list(seq)\n",
    "sorted(seq)\n",
    "\n",
    "for i in seq:\n",
    "    if i in a\n",
    "    print(i,end=' ')"
   ]
  },
  {
   "cell_type": "code",
   "execution_count": 9,
   "metadata": {},
   "outputs": [
    {
     "name": "stdout",
     "output_type": "stream",
     "text": [
      "enter the stringali is ali and zain is zain\n",
      "['ali', 'and', 'is', 'zain']\n"
     ]
    }
   ],
   "source": [
    "s=input(\"enter the string\")\n",
    "words=[i  for i in s.split(\" \")]\n",
    "\n",
    "print(sorted(list(set(words))))"
   ]
  },
  {
   "cell_type": "code",
   "execution_count": 1,
   "metadata": {},
   "outputs": [
    {
     "ename": "SyntaxError",
     "evalue": "invalid syntax (<ipython-input-1-d663617faabf>, line 2)",
     "output_type": "error",
     "traceback": [
      "\u001b[1;36m  File \u001b[1;32m\"<ipython-input-1-d663617faabf>\"\u001b[1;36m, line \u001b[1;32m2\u001b[0m\n\u001b[1;33m    words=[ i  for i s.split(\" \")]\u001b[0m\n\u001b[1;37m                     ^\u001b[0m\n\u001b[1;31mSyntaxError\u001b[0m\u001b[1;31m:\u001b[0m invalid syntax\n"
     ]
    }
   ],
   "source": [
    "s=input(\"enter the sttring\")\n",
    "words=[ i  for i s.split(\" \")]"
   ]
  },
  {
   "cell_type": "code",
   "execution_count": 11,
   "metadata": {},
   "outputs": [
    {
     "data": {
      "text/plain": [
       "[1, 2, 5]"
      ]
     },
     "execution_count": 11,
     "metadata": {},
     "output_type": "execute_result"
    }
   ],
   "source": [
    "import random\n",
    "l1=[random.randint(1,5) for  i in  range(5)]\n",
    "l2=[random.randint(1,5) for  i in  range(5)]\n",
    "l3=list(set(l1).intersection(set(l2)))\n",
    "l3\n"
   ]
  },
  {
   "cell_type": "code",
   "execution_count": null,
   "metadata": {},
   "outputs": [],
   "source": []
  }
 ],
 "metadata": {
  "kernelspec": {
   "display_name": "Python 3",
   "language": "python",
   "name": "python3"
  },
  "language_info": {
   "codemirror_mode": {
    "name": "ipython",
    "version": 3
   },
   "file_extension": ".py",
   "mimetype": "text/x-python",
   "name": "python",
   "nbconvert_exporter": "python",
   "pygments_lexer": "ipython3",
   "version": "3.8.3"
  }
 },
 "nbformat": 4,
 "nbformat_minor": 4
}
