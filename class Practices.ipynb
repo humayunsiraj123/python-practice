{
 "cells": [
  {
   "cell_type": "markdown",
   "metadata": {},
   "source": [
    "# IOT SECTION C\n",
    "# HUMAYUN SIRAJ\n",
    "# 23 12 2020"
   ]
  },
  {
   "cell_type": "code",
   "execution_count": 4,
   "metadata": {},
   "outputs": [
    {
     "name": "stdout",
     "output_type": "stream",
     "text": [
      "the name nissan having price 234235\n",
      "price 234235\n",
      "234235\n",
      "nissan\n"
     ]
    }
   ],
   "source": [
    "class Vehicle:\n",
    "    def __init__(self,price):\n",
    "        self.price=price\n",
    "    def display(self):\n",
    "        print(\"price\",self.price)\n",
    "class Category(Vehicle):\n",
    "    def __init__(self,name,price):\n",
    "        self.name=name\n",
    "        Vehicle.__init__(self,price)\n",
    "    def display(self):\n",
    "        print(f\"the name {self.name} having price {self.price}\")\n",
    "c1=Category(\"nissan\",234235)\n",
    "c1.display()\n",
    "Vehicle.display(c1)\n",
    "print(c1.price)\n",
    "print(c1.name)\n",
    "        "
   ]
  },
  {
   "cell_type": "code",
   "execution_count": 5,
   "metadata": {},
   "outputs": [
    {
     "name": "stdout",
     "output_type": "stream",
     "text": [
      "(3, 5, 2, 6, 6, 3, 46, 85, 5, 7, 3, 5)\n"
     ]
    }
   ],
   "source": [
    "def old(*args):\n",
    "    print(args)\n",
    "old(3,5,2,6,6,3,46,85,5,7,3,5)    "
   ]
  },
  {
   "cell_type": "code",
   "execution_count": 6,
   "metadata": {},
   "outputs": [
    {
     "name": "stdout",
     "output_type": "stream",
     "text": [
      "{'name': 'humayun', 'age': 20, 'height': '5.4', 'gpa': 3.68}\n"
     ]
    }
   ],
   "source": [
    "def new_concept(**kwargs):\n",
    "    print(kwargs)\n",
    "new_concept(name=\"humayun\",age=20,height='5.4',gpa=3.68)\n"
   ]
  },
  {
   "cell_type": "code",
   "execution_count": 7,
   "metadata": {},
   "outputs": [
    {
     "name": "stdout",
     "output_type": "stream",
     "text": [
      " name : humayun \n",
      " age : 20 \n",
      " height : 5.4 \n",
      " gpa : 3.68 \n"
     ]
    }
   ],
   "source": [
    "def new_concept(**kwargs):\n",
    "    for key,value in kwargs.items():\n",
    "        print(f\" {key} : {value} \")\n",
    "        \n",
    "new_concept(name=\"humayun\",age=20,height='5.4',gpa=3.68)\n"
   ]
  },
  {
   "cell_type": "code",
   "execution_count": 8,
   "metadata": {},
   "outputs": [],
   "source": [
    "def new_concept_2(*args,**kwargs):\n",
    "    print(args)\n",
    "    print(kwargs)\n",
    "    for i in args:\n",
    "        print(i)\n",
    "    for key,value in kwargs.items():\n",
    "        print(f\"{key} : {value}\")\n",
    "        "
   ]
  },
  {
   "cell_type": "code",
   "execution_count": 9,
   "metadata": {},
   "outputs": [
    {
     "name": "stdout",
     "output_type": "stream",
     "text": [
      "(5, 8, 3, 98, 3, 23, 6, 76)\n",
      "{'name': 'Khan', 'age': 20, 'no': '031624542344', 'date_of_birth': '10-07-2000', 'dept': 'Electronics'}\n",
      "5\n",
      "8\n",
      "3\n",
      "98\n",
      "3\n",
      "23\n",
      "6\n",
      "76\n",
      "name : Khan\n",
      "age : 20\n",
      "no : 031624542344\n",
      "date_of_birth : 10-07-2000\n",
      "dept : Electronics\n"
     ]
    }
   ],
   "source": [
    "new_concept_2(5,8,3,98,3,23,6,76,name=\"Khan\",age=20,no=\"031624542344\",date_of_birth=\"10-07-2000\",dept=\"Electronics\")"
   ]
  },
  {
   "cell_type": "code",
   "execution_count": null,
   "metadata": {},
   "outputs": [],
   "source": []
  },
  {
   "cell_type": "code",
   "execution_count": 17,
   "metadata": {},
   "outputs": [
    {
     "name": "stdout",
     "output_type": "stream",
     "text": [
      "Humayun\n",
      "El-18020\n",
      "3450435\n",
      "senior developer\n"
     ]
    }
   ],
   "source": [
    "class Person(object):\n",
    "    def __init__(self,name,idnumber):\n",
    "        self.name=name\n",
    "        self.idnumber=idnumber\n",
    "class Employee(Person):\n",
    "    def __init__(self,name,idnumber,salary,post):\n",
    "        self.salary=salary\n",
    "        self.post=post\n",
    "        Person.__init__(self,name,idnumber)\n",
    "e1=Employee(\"Humayun\",\"El-18020\",3450435,\"senior developer\")\n",
    "print(e1.name)\n",
    "print(e1.idnumber)\n",
    "print(e1.salary)\n",
    "print(e1.post)"
   ]
  },
  {
   "cell_type": "code",
   "execution_count": 24,
   "metadata": {},
   "outputs": [
    {
     "name": "stdout",
     "output_type": "stream",
     "text": [
      "geek1\n",
      "geek2\n",
      "Derived\n",
      "base1 base2\n"
     ]
    }
   ],
   "source": [
    "class Base1(object):\n",
    "    def __init__(self):\n",
    "        self.str=\"base1\"\n",
    "        print(\"geek1\")\n",
    "class Base2(object):\n",
    "    def __init__(self):\n",
    "        self.str1=\"base2\"\n",
    "        print(\"geek2\")\n",
    "class Derived(Base1,Base2):\n",
    "    def __init__(self):\n",
    "        Base1.__init__(self)\n",
    "        Base2.__init__(self)\n",
    "        print(\"Derived\")\n",
    "    def sys(self):    \n",
    "        print(self.str,self.str1)\n",
    "ob1=Derived()\n",
    "ob1.sys()"
   ]
  },
  {
   "cell_type": "code",
   "execution_count": 27,
   "metadata": {},
   "outputs": [
    {
     "name": "stdout",
     "output_type": "stream",
     "text": [
      "Requirement already satisfied: PyQt5 in c:\\users\\lab1.desktop-encagld\\anaconda3\\lib\\site-packages (5.15.2)\n",
      "Requirement already satisfied: PyQt5-sip<13,>=12.8 in c:\\users\\lab1.desktop-encagld\\anaconda3\\lib\\site-packages (from PyQt5) (12.8.1)\n",
      "Note: you may need to restart the kernel to use updated packages.\n"
     ]
    }
   ],
   "source": [
    "pip install PyQt5\n"
   ]
  },
  {
   "cell_type": "code",
   "execution_count": 28,
   "metadata": {},
   "outputs": [],
   "source": [
    "from PyQt5 import *\n"
   ]
  },
  {
   "cell_type": "code",
   "execution_count": null,
   "metadata": {},
   "outputs": [],
   "source": []
  }
 ],
 "metadata": {
  "kernelspec": {
   "display_name": "Python 3",
   "language": "python",
   "name": "python3"
  },
  "language_info": {
   "codemirror_mode": {
    "name": "ipython",
    "version": 3
   },
   "file_extension": ".py",
   "mimetype": "text/x-python",
   "name": "python",
   "nbconvert_exporter": "python",
   "pygments_lexer": "ipython3",
   "version": "3.8.3"
  }
 },
 "nbformat": 4,
 "nbformat_minor": 4
}
