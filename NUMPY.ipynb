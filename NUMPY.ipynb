{
 "cells": [
  {
   "cell_type": "markdown",
   "metadata": {},
   "source": [
    "# NUMPY PRACTICE"
   ]
  },
  {
   "cell_type": "code",
   "execution_count": 2,
   "metadata": {},
   "outputs": [
    {
     "data": {
      "text/plain": [
       "array([10, 20, 32, 32,  4,  2,  3, 12, 12])"
      ]
     },
     "execution_count": 2,
     "metadata": {},
     "output_type": "execute_result"
    }
   ],
   "source": [
    "#1D array\n",
    "import numpy as np\n",
    "n1=np.array([10,20,32,32,4,2,3,12,12])\n",
    "n1"
   ]
  },
  {
   "cell_type": "code",
   "execution_count": 9,
   "metadata": {},
   "outputs": [
    {
     "data": {
      "text/plain": [
       "array([[23, 27, 31, 35, 39, 43, 47, 51, 55, 59, 63, 67, 71, 75, 79, 83,\n",
       "        87, 91, 95],\n",
       "       [99, 95, 91, 87, 83, 79, 75, 71, 67, 63, 59, 55, 51, 47, 43, 39,\n",
       "        35, 31, 27]])"
      ]
     },
     "execution_count": 9,
     "metadata": {},
     "output_type": "execute_result"
    }
   ],
   "source": [
    "#2D ARRAY\n",
    "n2=np.array([[i for i in range(23,99,4)],[i for i in range(99,23,-4)]])\n",
    "n2"
   ]
  },
  {
   "cell_type": "code",
   "execution_count": 12,
   "metadata": {},
   "outputs": [
    {
     "data": {
      "text/plain": [
       "numpy.ndarray"
      ]
     },
     "execution_count": 12,
     "metadata": {},
     "output_type": "execute_result"
    }
   ],
   "source": [
    "type(n1)"
   ]
  },
  {
   "cell_type": "code",
   "execution_count": 16,
   "metadata": {},
   "outputs": [
    {
     "name": "stdout",
     "output_type": "stream",
     "text": [
      "[[0. 0. 0. 0. 0.]\n",
      " [0. 0. 0. 0. 0.]\n",
      " [0. 0. 0. 0. 0.]\n",
      " [0. 0. 0. 0. 0.]\n",
      " [0. 0. 0. 0. 0.]]\n"
     ]
    },
    {
     "data": {
      "text/plain": [
       "array([[1., 1., 1.],\n",
       "       [1., 1., 1.],\n",
       "       [1., 1., 1.]])"
      ]
     },
     "execution_count": 16,
     "metadata": {},
     "output_type": "execute_result"
    }
   ],
   "source": [
    "# array of zeros \n",
    "n3=np.zeros((5,5))\n",
    "print(n3)\n",
    "# array of ones\n",
    "n4=np.ones((3,3))\n",
    "n4"
   ]
  },
  {
   "cell_type": "code",
   "execution_count": 19,
   "metadata": {},
   "outputs": [
    {
     "name": "stdout",
     "output_type": "stream",
     "text": [
      "[[10 10 10 10]\n",
      " [10 10 10 10]\n",
      " [10 10 10 10]\n",
      " [10 10 10 10]] [[6 6 6 6 6 6 6 6 6]\n",
      " [6 6 6 6 6 6 6 6 6]\n",
      " [6 6 6 6 6 6 6 6 6]\n",
      " [6 6 6 6 6 6 6 6 6]\n",
      " [6 6 6 6 6 6 6 6 6]\n",
      " [6 6 6 6 6 6 6 6 6]]\n"
     ]
    }
   ],
   "source": [
    "# array of same no\n",
    "ns=np.full((4,4),10)\n",
    "nf=np.full((6,9),6)\n",
    "print(ns,nf)"
   ]
  },
  {
   "cell_type": "code",
   "execution_count": 21,
   "metadata": {},
   "outputs": [
    {
     "name": "stdout",
     "output_type": "stream",
     "text": [
      "[10 11 12 13 14 15 16 17 18 19 20 21 22 23 24 25 26 27 28 29 30 31 32 33\n",
      " 34 35 36 37 38 39]\n"
     ]
    },
    {
     "data": {
      "text/plain": [
       "array([10, 15, 20, 25, 30, 35, 40, 45, 50, 55, 60, 65, 70, 75, 80, 85, 90,\n",
       "       95])"
      ]
     },
     "execution_count": 21,
     "metadata": {},
     "output_type": "execute_result"
    }
   ],
   "source": [
    "# arrray of arange\n",
    "na=np.arange(10,100,5)\n",
    "naa=np.arange(10,40)\n",
    "print(naa)\n",
    "na"
   ]
  },
  {
   "cell_type": "code",
   "execution_count": 26,
   "metadata": {},
   "outputs": [
    {
     "name": "stdout",
     "output_type": "stream",
     "text": [
      "[55 94 76  9 40 43 36 28 44 95 25 16 36 27 98 88 79  2 88 96]\n",
      "[92 14 14 48 56 32  3 41  3  9 89 42 11 51 31 31 53 19 74 78  0 22 71 79\n",
      " 46  0 49  0 45 37 26 65 69 73 75 56 96 12  8 64]\n"
     ]
    }
   ],
   "source": [
    "# array oof random no\n",
    "from random import*\n",
    "nr=np.random.randint(1,101,20)\n",
    "nr1=np.random.randint(0,100,40)\n",
    "print(nr)\n",
    "print(nr1)\n"
   ]
  },
  {
   "cell_type": "code",
   "execution_count": 30,
   "metadata": {},
   "outputs": [
    {
     "name": "stdout",
     "output_type": "stream",
     "text": [
      "[[10 10 10 10]\n",
      " [10 10 10 10]\n",
      " [10 10 10 10]\n",
      " [10 10 10 10]] [[6 6 6 6 6 6 6 6 6]\n",
      " [6 6 6 6 6 6 6 6 6]\n",
      " [6 6 6 6 6 6 6 6 6]\n",
      " [6 6 6 6 6 6 6 6 6]\n",
      " [6 6 6 6 6 6 6 6 6]\n",
      " [6 6 6 6 6 6 6 6 6]]\n"
     ]
    },
    {
     "data": {
      "text/plain": [
       "array([[10, 10, 10, 10, 10, 10, 10, 10],\n",
       "       [10, 10, 10, 10, 10, 10, 10, 10]])"
      ]
     },
     "execution_count": 30,
     "metadata": {},
     "output_type": "execute_result"
    }
   ],
   "source": [
    "# changin shape \n",
    "ns=np.full((4,4),10)\n",
    "nf=np.full((6,9),6)\n",
    "print(ns,nf)\n",
    "ns.shape=(2,8)\n",
    "ns.shape\n",
    "ns"
   ]
  },
  {
   "cell_type": "code",
   "execution_count": 34,
   "metadata": {},
   "outputs": [
    {
     "name": "stdout",
     "output_type": "stream",
     "text": [
      "VERTICAL STACK\n",
      "[[2 3 4 5 6 7]\n",
      " [8 7 6 5 4 3]]\n",
      "HORIZONTAL stack\n",
      "[2 3 4 5 6 7 8 7 6 5 4 3]\n",
      "COLUMN STACK\n",
      "[[2 8]\n",
      " [3 7]\n",
      " [4 6]\n",
      " [5 5]\n",
      " [6 4]\n",
      " [7 3]]\n"
     ]
    }
   ],
   "source": [
    "# stack \n",
    "v1=np.arange(2,8)\n",
    "v2=np.arange(8,2,-1)\n",
    "#vertical stack\n",
    "v=np.vstack((v1,v2))\n",
    "print(\"VERTICAL STACK\")\n",
    "print(v)\n",
    "#horizontal stack\n",
    "h=np.hstack((v1,v2))\n",
    "print(\"HORIZONTAL stack\")\n",
    "print(h)\n",
    "# column stack\n",
    "print(\"COLUMN STACK\")\n",
    "c=np.column_stack((v1,v2))\n",
    "print(c)\n"
   ]
  },
  {
   "cell_type": "markdown",
   "metadata": {},
   "source": [
    "# intersection diffrence etc\n",
    "\n"
   ]
  },
  {
   "cell_type": "code",
   "execution_count": 37,
   "metadata": {},
   "outputs": [
    {
     "name": "stdout",
     "output_type": "stream",
     "text": [
      "DIFFRENCE\n",
      "[ 2 14 20 21 30 34 38 44 48 51 55 61 63 69 89 93 95]\n",
      "[ 4  5  7 10 15 17 18 26 28 36 40 42 45 47 49]\n",
      "INTERSECTION\n",
      "[ 3 27 32]\n",
      "[ 3 27 32]\n"
     ]
    }
   ],
   "source": [
    "a1=np.random.randint(2,100,20)\n",
    "a2=np.random.randint(2,50,20)\n",
    "# diffrence\n",
    "print(\"DIFFRENCE\")\n",
    "d1=np.setdiff1d(a1,a2)\n",
    "print(d1)\n",
    "d2=np.setdiff1d(a2,a1)\n",
    "print(d2)\n",
    "#INTERSECTIONS\n",
    "print(\"INTERSECTION\")\n",
    "i1=np.intersect1d(a1,a2)\n",
    "print(i1)\n",
    "i2=np.intersect1d(a2,a1)\n",
    "print(i2)"
   ]
  },
  {
   "cell_type": "code",
   "execution_count": 40,
   "metadata": {},
   "outputs": [
    {
     "name": "stdout",
     "output_type": "stream",
     "text": [
      "[90  7 56 64 46 95 50 54 81 53 44 73 38 10 76 39 72 81 85 25]\n",
      "[45 38 29 16 45 11 31  4 42  9  8 34 47 33 44 49 18 35  4 12]\n",
      "SUMMING OF ARRAYS\n",
      "[135  45  85  80  91 106  81  58 123  62  52 107  85  43 120  88  90 116\n",
      "  89  37]\n",
      "[1139  554]\n"
     ]
    }
   ],
   "source": [
    "# SUMMING OF ARRAY\n",
    "a1=np.random.randint(2,100,20)\n",
    "a2=np.random.randint(2,50,20)\n",
    "print(a1)\n",
    "print(a2)\n",
    "print(\"SUMMING OF ARRAYS\")\n",
    "# to add elenment of the two ary od same index\n",
    "summ=np.sum([a1,a2],axis=0)\n",
    "print(summ)\n",
    "# to add the all the aemelenet of an array\n",
    "sum1=np.sum([a1,a2],axis=1)\n",
    "print(sum1)\n"
   ]
  },
  {
   "cell_type": "code",
   "execution_count": 43,
   "metadata": {},
   "outputs": [
    {
     "name": "stdout",
     "output_type": "stream",
     "text": [
      "[ 2  4  6  8 10 12 14 16 18]\n",
      "[ 3  5  7  9 11 13 15 17 19]\n",
      "[ 1  3  5  7  9 11 13 15 17]\n",
      "[ 4  8 12 16 20 24 28 32 36]\n",
      "[1. 2. 3. 4. 5. 6. 7. 8. 9.]\n"
     ]
    }
   ],
   "source": [
    "# mathematical operraton of array\n",
    "#1ADDiITON\n",
    "a=np.arange(2,20,2)\n",
    "print(a)\n",
    "print(a+1)\n",
    "print(a-1)\n",
    "print(a*2)\n",
    "print(a/2)\n",
    "\n"
   ]
  },
  {
   "cell_type": "code",
   "execution_count": 49,
   "metadata": {},
   "outputs": [
    {
     "name": "stdout",
     "output_type": "stream",
     "text": [
      "[ 0  3  6  9 12 15 18 21 24 27 30 33 36 39 42 45 48]\n",
      "mean 24.0\n",
      "mode 24.0\n",
      "std 14.696938456699069\n"
     ]
    }
   ],
   "source": [
    "# MEAN MEDIAN MODE\n",
    "arr=np.arange(0,50,3)\n",
    "print(arr)\n",
    "print(\"mean\",np.mean(arr))\n",
    "print(\"mode\",np.median(arr))\n",
    "print(\"std\",f\"{ np.std(arr)}\")\n"
   ]
  },
  {
   "cell_type": "code",
   "execution_count": 50,
   "metadata": {},
   "outputs": [
    {
     "name": "stdout",
     "output_type": "stream",
     "text": [
      "[ 0  3  6  9 12 15 18 21 24 27 30 33 36 39 42 45 48]\n",
      "[ 0  3  6  9 12 15 18 21 24 27 30 33 36 39 42 45 48]\n"
     ]
    }
   ],
   "source": [
    "# saving and loading\n",
    "arr=np.arange(0,50,3)\n",
    "np.save(\"mynumpy\",arr)\n",
    "print(arr)\n",
    "nload=np.load(\"mynumpy.npy\")\n",
    "print(nload)"
   ]
  },
  {
   "cell_type": "code",
   "execution_count": null,
   "metadata": {},
   "outputs": [],
   "source": []
  }
 ],
 "metadata": {
  "kernelspec": {
   "display_name": "Python 3",
   "language": "python",
   "name": "python3"
  },
  "language_info": {
   "codemirror_mode": {
    "name": "ipython",
    "version": 3
   },
   "file_extension": ".py",
   "mimetype": "text/x-python",
   "name": "python",
   "nbconvert_exporter": "python",
   "pygments_lexer": "ipython3",
   "version": "3.8.3"
  }
 },
 "nbformat": 4,
 "nbformat_minor": 4
}
