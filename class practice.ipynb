{
 "cells": [
  {
   "cell_type": "markdown",
   "metadata": {},
   "source": [
    "# IOT SECTION C\n",
    "# 11 12 2020\n",
    "# HUMAYUN SIRAJ\n"
   ]
  },
  {
   "cell_type": "code",
   "execution_count": 23,
   "metadata": {},
   "outputs": [
    {
     "name": "stdout",
     "output_type": "stream",
     "text": [
      "Lambo model 2018 having type hybrid and color Black price is $ 109000\n",
      "vitz model 2019 having type cng and color white price is $ 20000\n"
     ]
    }
   ],
   "source": [
    "# classes\n",
    "class Vehicle:\n",
    "    name=\"\"\n",
    "    model=''\n",
    "    color=''\n",
    "    tipe=''\n",
    "    price=0\n",
    "    def description(self):\n",
    "        print(f\"{self.name} model {self.model} having type {self.tipe} and color {self.color} price is $ {self.price}\")\n",
    "c1=Vehicle()\n",
    "c1.name=\"Lambo\"\n",
    "c1.model=\"2018\"\n",
    "c1.tipe=\"hybrid\"\n",
    "c1.color=\"Black\"\n",
    "c1.price=109000\n",
    "c1.description()\n",
    "c2=Vehicle()\n",
    "c2.name=\"vitz\"\n",
    "c2.model=\"2019\"\n",
    "c2.tipe=\"cng\"\n",
    "c2.color=\"white\"\n",
    "c2.price=20000\n",
    "c2.description()"
   ]
  },
  {
   "cell_type": "code",
   "execution_count": 27,
   "metadata": {},
   "outputs": [
    {
     "name": "stdout",
     "output_type": "stream",
     "text": [
      "THe bread of dog with colour is Black\n"
     ]
    }
   ],
   "source": [
    "# class  \n",
    "class Dog:\n",
    "    animal=\"dog\"\n",
    "    def __init__(self,bread):\n",
    "        self.bread=bread\n",
    "    def setcolour(self,colour):\n",
    "        self.colour=colour\n",
    "    def getcolour(self):\n",
    "        return self.colour\n",
    "s=Dog(\"GERRMAN\")\n",
    "s.setcolour(\"Black\")\n",
    "print(f\"THe bread of dog with colour is {s.getcolour()}\")"
   ]
  },
  {
   "cell_type": "code",
   "execution_count": 29,
   "metadata": {},
   "outputs": [
    {
     "name": "stdout",
     "output_type": "stream",
     "text": [
      " we are working on square with sides 4\n"
     ]
    }
   ],
   "source": [
    "# polygon class\n",
    "class Polygon:\n",
    "    def __init__(self,name,sides):\n",
    "        self.name=name\n",
    "        self.sides=sides\n",
    "    def work(self):\n",
    "        print(f' we are working on {self.name} with sides {self.sides}')\n",
    "a=Polygon(\"square\",4)\n",
    "a.work()"
   ]
  },
  {
   "cell_type": "code",
   "execution_count": null,
   "metadata": {},
   "outputs": [],
   "source": []
  },
  {
   "cell_type": "code",
   "execution_count": null,
   "metadata": {},
   "outputs": [],
   "source": []
  }
 ],
 "metadata": {
  "kernelspec": {
   "display_name": "Python 3",
   "language": "python",
   "name": "python3"
  },
  "language_info": {
   "codemirror_mode": {
    "name": "ipython",
    "version": 3
   },
   "file_extension": ".py",
   "mimetype": "text/x-python",
   "name": "python",
   "nbconvert_exporter": "python",
   "pygments_lexer": "ipython3",
   "version": "3.8.3"
  }
 },
 "nbformat": 4,
 "nbformat_minor": 4
}
