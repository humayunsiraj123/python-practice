{
 "cells": [
  {
   "cell_type": "markdown",
   "metadata": {},
   "source": [
    "# IOT SECTION  C\n",
    "# HUMAYUN SIRAJ\n",
    "# LAB 11\n",
    "# FUNCTIONS and DICTIONARY\n"
   ]
  },
  {
   "cell_type": "code",
   "execution_count": 2,
   "metadata": {},
   "outputs": [
    {
     "name": "stdout",
     "output_type": "stream",
     "text": [
      "{'id1': {'name': 'sara', 'class': 'v', 'subs': ['maths', 'sci', 'eng']}, 'id2': {'name': 'saad', 'class': 'V', 'subs': ['maths', 'sci', 'eng']}, 'ide4': {'name': 'zain', 'class': 'v', 'subs': ['maths', 'sci', 'eng']}}\n"
     ]
    }
   ],
   "source": [
    "#task 1\n",
    "student={\"id1\":\n",
    "         {\"name\":\"sara\",\"class\":\"v\",\"subs\":[\"maths\",\"sci\",'eng']},\n",
    "         \"id2\":\n",
    "         {\"name\":\"saad\",\"class\":\"V\",\"subs\":[\"maths\",\"sci\",\"eng\"]},\n",
    "         \"id3\":\n",
    "         {\"name\":\"sara\",\"class\":\"v\",\"subs\":[\"maths\",\"sci\",\"eng\"]},\n",
    "         \"ide4\":\n",
    "         {\"name\":\"zain\",\"class\":\"v\",\"subs\":[\"maths\",\"sci\",\"eng\"]}\n",
    "        }\n",
    "result={}\n",
    "for i,j in student.items():\n",
    "    if j  not in result.values():\n",
    "        result[i]=j\n",
    "print(result)        "
   ]
  },
  {
   "cell_type": "code",
   "execution_count": 3,
   "metadata": {},
   "outputs": [
    {
     "name": "stdout",
     "output_type": "stream",
     "text": [
      "this is the first fucnntions\n",
      "\n",
      " HELLO\n"
     ]
    }
   ],
   "source": [
    "# 2 greeting fucntion\n",
    "def greeting():\n",
    "    print('this is the first fucnntions')\n",
    "    print(\"\\n HELLO\")\n",
    "greeting()    "
   ]
  },
  {
   "cell_type": "code",
   "execution_count": 4,
   "metadata": {},
   "outputs": [
    {
     "name": "stdout",
     "output_type": "stream",
     "text": [
      "the argument of the funtion is : 6\n"
     ]
    }
   ],
   "source": [
    "# task 3 funtion with aurgemnet\n",
    "def var(a):\n",
    "    print(\"the argument of the funtion is :\",a)\n",
    "var(6)   "
   ]
  },
  {
   "cell_type": "code",
   "execution_count": 5,
   "metadata": {},
   "outputs": [
    {
     "name": "stdout",
     "output_type": "stream",
     "text": [
      "the first value is : 3\n",
      "the second value is : 4\n",
      "the sum  of a+b = 7\n"
     ]
    }
   ],
   "source": [
    "# task 4 add function\n",
    "def add(a,b):\n",
    "    print('the first value is :',a)\n",
    "    print('the second value is :',b)\n",
    "    print(\"the sum  of a+b =\",a+b)\n",
    "add(3,4)    "
   ]
  },
  {
   "cell_type": "code",
   "execution_count": 11,
   "metadata": {},
   "outputs": [
    {
     "name": "stdout",
     "output_type": "stream",
     "text": [
      "the first value is : 45\n",
      "the second value is : 98\n",
      "the sum  of a+b = 143\n"
     ]
    }
   ],
   "source": [
    "add(45,98)"
   ]
  },
  {
   "cell_type": "code",
   "execution_count": 12,
   "metadata": {},
   "outputs": [
    {
     "name": "stdout",
     "output_type": "stream",
     "text": [
      "enter the first no: 56\n",
      "enter the second no:42\n",
      "the first value is : 56\n",
      "the second value is : 42\n",
      "the sum  of a+b = 98\n"
     ]
    }
   ],
   "source": [
    "#task 5 with input add function:\n",
    "c=int(input(\"enter the first no: \"))\n",
    "d=int(input(\"enter the second no:\"))\n",
    "add(c,d)"
   ]
  },
  {
   "cell_type": "code",
   "execution_count": 2,
   "metadata": {},
   "outputs": [],
   "source": [
    "def sub(a,b):\n",
    "    return a-b\n",
    "def multiply(a,b):\n",
    "    return a*b\n",
    "def divide(a,b):\n",
    "    if b==0:\n",
    "        print(\"division is not possible\")\n",
    "    else:\n",
    "        return a/b\n",
    "        \n",
    "def exp(a,b):\n",
    "    return (a**b)\n",
    "def remainder(a,b):\n",
    "    return (a%b)\n"
   ]
  },
  {
   "cell_type": "code",
   "execution_count": 3,
   "metadata": {},
   "outputs": [
    {
     "name": "stdout",
     "output_type": "stream",
     "text": [
      "enter the operator +,-,*,/,^,%, to quit enter q :%\n",
      "enter first no5\n",
      "enter the second 2\n",
      "1.0\n",
      "enter the operator +,-,*,/,^,%, to quit enter q :q\n"
     ]
    }
   ],
   "source": [
    "# caluculator \n",
    "def sub(a,b):\n",
    "    return a-b\n",
    "def multiply(a,b):\n",
    "    return a*b\n",
    "def divide(a,b):\n",
    "    if b==0:\n",
    "        print(\"division is not possible\")\n",
    "    else:\n",
    "        return a/b\n",
    "        \n",
    "def exp(a,b):\n",
    "    return (a**b)\n",
    "def remainder(a,b):\n",
    "    return (a%b)\n",
    "def add(a,b):\n",
    "    print('the first value is :',a)\n",
    "    print('the second value is :',b)\n",
    "    print(\"the sum  of a+b =\",a+b)\n",
    "\n",
    "op=\" \"\n",
    "while op!=\"q\":\n",
    "    op=input(\"enter the operator +,-,*,/,^,%, to quit enter q :\")\n",
    "    if op!=\"q\":\n",
    "        c=float(input(\"enter first no\"))\n",
    "        d=float(input('enter the second '))\n",
    "    if op==\"+\":\n",
    "        add(c,d)\n",
    "    if op==\"-\":\n",
    "        print(sub(c,d))\n",
    "    if op==\"*\":\n",
    "        \n",
    "        print(multiply(c,d))\n",
    "    if op==\"/\":\n",
    "        print(divide(c,d))\n",
    "    if op==\"^\":\n",
    "        print(exp(c,d))\n",
    "    if op==\"%\":\n",
    "        print(remainder(c,d))    \n",
    "        "
   ]
  },
  {
   "cell_type": "code",
   "execution_count": null,
   "metadata": {},
   "outputs": [],
   "source": []
  }
 ],
 "metadata": {
  "kernelspec": {
   "display_name": "Python 3",
   "language": "python",
   "name": "python3"
  },
  "language_info": {
   "codemirror_mode": {
    "name": "ipython",
    "version": 3
   },
   "file_extension": ".py",
   "mimetype": "text/x-python",
   "name": "python",
   "nbconvert_exporter": "python",
   "pygments_lexer": "ipython3",
   "version": "3.8.3"
  }
 },
 "nbformat": 4,
 "nbformat_minor": 4
}
